{
 "cells": [
  {
   "cell_type": "markdown",
   "id": "f6aaef1a",
   "metadata": {},
   "source": [
    "# 파이썬 & AI 첫걸음\n",
    "이 노트북은  **체험용 실습**입니다. 셀을 위에서부터 순서대로 실행해 보세요!"
   ]
  },
  {
   "cell_type": "markdown",
   "id": "6bfda875",
   "metadata": {},
   "source": [
    "## 1️⃣ Hello, Colab!\n",
    "`Shift + Enter`로 **코드 셀**을 실행해 결과를 확인하세요."
   ]
  },
  {
   "cell_type": "code",
   "execution_count": null,
   "id": "511192f8",
   "metadata": {},
   "outputs": [],
   "source": [
    "print(\"Hello, AI!\")"
   ]
  },
  {
   "cell_type": "markdown",
   "id": "06a13774",
   "metadata": {},
   "source": [
    "## 2️⃣ 변수 · 연산\n",
    "숫자를 저장하고 계산해 봅시다."
   ]
  },
  {
   "cell_type": "code",
   "execution_count": null,
   "id": "54aa75bd",
   "metadata": {},
   "outputs": [],
   "source": [
    "x = 7\n",
    "y = 3\n",
    "\n",
    "print(x * y)"
   ]
  },
  {
   "cell_type": "code",
   "execution_count": null,
   "id": "44b46d19",
   "metadata": {},
   "outputs": [],
   "source": [
    "print(x-y)"
   ]
  },
  {
   "cell_type": "code",
   "execution_count": null,
   "id": "82185572",
   "metadata": {},
   "outputs": [],
   "source": [
    "print(x / 2)"
   ]
  },
  {
   "cell_type": "markdown",
   "id": "a69fbb17",
   "metadata": {},
   "source": [
    "## 3️⃣ 리스트 & 반복문\n",
    "여러 데이터를 한 번에 다뤄 보겠습니다."
   ]
  },
  {
   "cell_type": "code",
   "execution_count": null,
   "id": "2fd29481",
   "metadata": {},
   "outputs": [],
   "source": [
    "scores = [88, 92, 79]\n",
    "for s in scores:\n",
    "    print('Score:', s)"
   ]
  },
  {
   "cell_type": "markdown",
   "id": "39ef816d",
   "metadata": {},
   "source": [
    "## 4️⃣ 함수 만들기\n",
    "코드를 묶어 **재사용**해 봅시다."
   ]
  },
  {
   "cell_type": "code",
   "execution_count": null,
   "id": "1e2d8242",
   "metadata": {},
   "outputs": [],
   "source": [
    "def greet(name):\n",
    "    return f\"Hi, {name}!\"\n",
    "\n",
    "print(greet('Colab user'))"
   ]
  },
  {
   "cell_type": "code",
   "execution_count": null,
   "id": "43f87a07",
   "metadata": {},
   "outputs": [],
   "source": [
    "def greet(name):\n",
    "    return f\"Hello, {name}!\"\n",
    "\n",
    "name = input(\"Enter your name: \")\n",
    "print(greet(name))"
   ]
  },
  {
   "cell_type": "markdown",
   "id": "e5f89c3c",
   "metadata": {},
   "source": [
    "## 5️⃣ 세 줄로 AI 체험 🍀\n",
    "아래 셀을 실행하면 **감정 분석 모델**이 문장을 이해해 봅니다. (첫 실행 시 라이브러리를 설치하므로 1분 정도 걸릴 수 있습니다)"
   ]
  },
  {
   "cell_type": "code",
   "execution_count": null,
   "id": "edc06ab3",
   "metadata": {},
   "outputs": [],
   "source": [
    "!pip -q install transformers --progress-bar off\n",
    "from transformers import pipeline\n",
    "sentiment = pipeline('sentiment-analysis')\n",
    "print(sentiment('I love Colab!'))"
   ]
  },
  {
   "cell_type": "code",
   "execution_count": null,
   "id": "5692ee38",
   "metadata": {},
   "outputs": [],
   "source": [
    "print(sentiment(\"I am so tired\"))"
   ]
  },
  {
   "cell_type": "markdown",
   "id": "fda81906",
   "metadata": {},
   "source": [
    "## 6️⃣ 그래프 한 컷 🎨\n",
    "코드를 실행해 간단한 그래프를 만들어 봅시다."
   ]
  },
  {
   "cell_type": "code",
   "execution_count": null,
   "id": "413a3620",
   "metadata": {},
   "outputs": [],
   "source": [
    "import matplotlib.pyplot as plt\n",
    "plt.plot([1, 2, 3], [1, 4, 9])\n",
    "plt.title('y = x²')\n",
    "plt.xlabel('x')\n",
    "plt.ylabel('y')\n",
    "plt.show()"
   ]
  },
  {
   "cell_type": "code",
   "execution_count": null,
   "id": "c3017670",
   "metadata": {},
   "outputs": [],
   "source": []
  }
 ],
 "metadata": {
  "kernelspec": {
   "display_name": "Python 3",
   "language": "python",
   "name": "python3"
  },
  "language_info": {
   "codemirror_mode": {
    "name": "ipython",
    "version": 3
   },
   "file_extension": ".py",
   "mimetype": "text/x-python",
   "name": "python",
   "nbconvert_exporter": "python",
   "pygments_lexer": "ipython3",
   "version": "3.9.6"
  }
 },
 "nbformat": 4,
 "nbformat_minor": 5
}
