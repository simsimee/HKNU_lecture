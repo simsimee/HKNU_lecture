{
  "cells": [
    {
      "cell_type": "markdown",
      "id": "10d9d74b",
      "metadata": {
        "id": "10d9d74b"
      },
      "source": [
        "# NumPy · pandas · Matplotlib · Seaborn 기초 실습\n",
        "\n",
        "이 노트북은 프로그래밍/데이터 과목을 전공하지 않은 분들을 대상으로, 데이터 분석의 필수 Python 라이브러리 네 가지—NumPy, pandas, Matplotlib, Seaborn—의 가장 핵심적인 기능을 **실습 위주**로 소개합니다.\n",
        "\n",
        "## 강의 목표\n",
        "- Python 환경(Jupyter Notebook)에서 데이터를 다루는 기본 능력 습득\n",
        "- NumPy를 사용하여 다차원 배열 생성·연산 이해\n",
        "- pandas를 통해 표 형태의 데이터를 불러오고(DataFrame), 선택·집계·가공 실습\n",
        "- Matplotlib로 데이터 시각화 기초 플롯 작성\n",
        "- Seaborn으로 데이터 시각화 기초 플롯 작성"
      ]
    },
    {
      "cell_type": "code",
      "execution_count": null,
      "id": "Od9FZQ1-9DoJ",
      "metadata": {
        "colab": {
          "base_uri": "https://localhost:8080/"
        },
        "id": "Od9FZQ1-9DoJ",
        "outputId": "fd8f4c8c-6856-4c5e-ef11-23e9ea7e8bd1"
      },
      "outputs": [],
      "source": [
        "!pip install numpy pandas matplotlib seaborn\n",
        "!apt-get install -y fonts-nanum*"
      ]
    },
    {
      "cell_type": "code",
      "execution_count": null,
      "id": "78d847c7",
      "metadata": {
        "id": "78d847c7"
      },
      "outputs": [],
      "source": [
        "import numpy as np\n",
        "import pandas as pd\n",
        "import matplotlib.pyplot as plt\n",
        "import seaborn as sns\n",
        "%matplotlib inline\n",
        "\n",
        "import matplotlib.font_manager as fm\n",
        "import matplotlib as mpl\n",
        "\n",
        "#한글이 보이도록 폰트 설정\n",
        "font_path = '/usr/share/fonts/truetype/nanum/NanumGothic.ttf'\n",
        "fm.fontManager.addfont(font_path)\n",
        "font_prop = fm.FontProperties(fname=font_path)\n",
        "mpl.rcParams['font.family'] = font_prop.get_name()\n",
        "\n",
        "# seaborn 스타일 설정\n",
        "sns.set_style(\"whitegrid\")\n",
        "plt.rcParams['font.family'] = 'DejaVu Sans'"
      ]
    },
    {
      "cell_type": "markdown",
      "id": "ec1ca73f",
      "metadata": {
        "id": "ec1ca73f"
      },
      "source": [
        "### Jupyter 기본 단축키\n",
        "- **셀 실행**: `Shift + Enter`\n",
        "- **새 셀 추가**: `B`(아래) 또는 `A`(위)"
      ]
    },
    {
      "cell_type": "markdown",
      "id": "08cc4369",
      "metadata": {
        "id": "08cc4369"
      },
      "source": [
        "## 1. NumPy 기초"
      ]
    },
    {
      "cell_type": "code",
      "execution_count": null,
      "id": "bb425b51",
      "metadata": {
        "colab": {
          "base_uri": "https://localhost:8080/"
        },
        "id": "bb425b51",
        "outputId": "79359355-c9b2-43ac-c57e-5476752ab2f5"
      },
      "outputs": [],
      "source": [
        "# ndarray 생성 & 속성 확인\n",
        "arr = np.array([[1, 2, 3], [4, 5, 6]])\n",
        "print(arr)\n",
        "print('shape:', arr.shape, 'dtype:', arr.dtype)"
      ]
    },
    {
      "cell_type": "markdown",
      "id": "34815458",
      "metadata": {
        "id": "34815458"
      },
      "source": [
        "**연습 1‑1**: 0~9까지 짝수만 포함하는 1‑차원 배열을 만들어 `dtype`을 확인해 보세요."
      ]
    },
    {
      "cell_type": "code",
      "execution_count": null,
      "id": "9270d2c6",
      "metadata": {
        "colab": {
          "base_uri": "https://localhost:8080/"
        },
        "id": "9270d2c6",
        "outputId": "cfb528ec-9569-40a9-fe3b-ad3257bb4155"
      },
      "outputs": [],
      "source": [
        "even = np.arange(0, 10, 2)\n",
        "even, even.dtype"
      ]
    },
    {
      "cell_type": "code",
      "execution_count": null,
      "id": "6fd70dd7",
      "metadata": {
        "colab": {
          "base_uri": "https://localhost:8080/"
        },
        "id": "6fd70dd7",
        "outputId": "61d23b1a-3126-44cd-fa3e-b8479bfa83f6"
      },
      "outputs": [],
      "source": [
        "arr2 = np.arange(1, 10).reshape(3, 3)\n",
        "arr2 + 10"
      ]
    },
    {
      "cell_type": "markdown",
      "id": "594567ea",
      "metadata": {},
      "source": [
        "**연습 1-2**: 1부터 100까지 숫자 중 3의 배수만 포함하는 1차원 배열을 만들고, 배열의 평균(mean)과 합(sum)을 계산해 보세요."
      ]
    },
    {
      "cell_type": "code",
      "execution_count": null,
      "id": "b3bfd50d",
      "metadata": {},
      "outputs": [],
      "source": [
        "multiples_of_3 = np.arange(3, 101, 3)\n",
        "print('3의 배수 배열:', multiples_of_3)\n",
        "print('평균:', multiples_of_3.mean())\n",
        "print('합:', multiples_of_3.sum())"
      ]
    },
    {
      "cell_type": "markdown",
      "id": "1866b4d6",
      "metadata": {},
      "source": [
        "**연습 1-3**: 0~1 사이의 균등 분포에서 무작위로 10개의 숫자를 생성하고, `np.sort`를 사용해 오름차순으로 정렬해 보세요."
      ]
    },
    {
      "cell_type": "code",
      "execution_count": null,
      "id": "3d1c2229",
      "metadata": {},
      "outputs": [],
      "source": [
        "random_nums = np.random.rand(10)\n",
        "sorted_random = np.sort(random_nums)\n",
        "print('원본 랜덤 수:', random_nums)\n",
        "print('정렬된 랜덤 수:', sorted_random)"
      ]
    },
    {
      "cell_type": "markdown",
      "id": "b098c305",
      "metadata": {
        "id": "b098c305"
      },
      "source": [
        "## 2. pandas 기초\n",
        "\n",
        "- Python에서 가장 많이 사용하는 데이터 분석/조작 라이브러리    \n",
        "- Excel 처럼 표 형태의 정형 데이터를 쉽게 다룰 수 있는 라이브러리    "
      ]
    },
    {
      "cell_type": "code",
      "execution_count": 6,
      "id": "c9df60b6",
      "metadata": {
        "id": "c9df60b6"
      },
      "outputs": [],
      "source": [
        "# Series & DataFrame\n",
        "s = pd.Series([10, 15, 7], index=['서울', '부산', '대구'])\n",
        "df = pd.DataFrame({\n",
        "    'name': ['Ann', 'Bob', 'Ceci'],\n",
        "    'age': [23, 25, 22],\n",
        "    'major': ['Korean', 'Economics', 'Physics']\n",
        "})"
      ]
    },
    {
      "cell_type": "code",
      "execution_count": null,
      "id": "e56fd14d",
      "metadata": {
        "colab": {
          "base_uri": "https://localhost:8080/"
        },
        "id": "e56fd14d",
        "outputId": "21187fa5-b5e8-43a9-88ad-c4684b2f9abf"
      },
      "outputs": [],
      "source": [
        "print(s)"
      ]
    },
    {
      "cell_type": "code",
      "execution_count": null,
      "id": "08a50095",
      "metadata": {
        "colab": {
          "base_uri": "https://localhost:8080/",
          "height": 143
        },
        "id": "08a50095",
        "outputId": "68d6bb04-7ca3-4ec3-d75c-d896075d398f"
      },
      "outputs": [],
      "source": [
        "df.head()"
      ]
    },
    {
      "cell_type": "code",
      "execution_count": null,
      "id": "94d21ff5",
      "metadata": {
        "colab": {
          "base_uri": "https://localhost:8080/"
        },
        "id": "94d21ff5",
        "outputId": "ef54c771-2ee8-4c3f-c220-33477287e4bb"
      },
      "outputs": [],
      "source": [
        "#`age` 컬럼의 평균을 구하기\n",
        "df['age'].mean()"
      ]
    },
    {
      "cell_type": "markdown",
      "id": "5bea122a",
      "metadata": {
        "id": "5bea122a"
      },
      "source": [
        "#### iris 데이터셋 조작하기\n",
        "\n",
        "Iris 데이터셋은 머신러닝과 통계학 입문자들에게 가장 널리 사용되는 고전(classic) 데이터셋이에요.\n",
        "\n",
        "꽃을 측정한 데이터 \n",
        "\n",
        "각 샘플은 4가지 특징(feature) 을 가지고 있습니다:\n",
        "1. sepal length (꽃받침 길이)   \n",
        "2. sepal width (꽃받침 폭)   \n",
        "3. petal length (꽃잎 길이)\n",
        "4. petal width (꽃잎 폭)"
      ]
    },
    {
      "cell_type": "code",
      "execution_count": null,
      "id": "e656908e",
      "metadata": {
        "colab": {
          "base_uri": "https://localhost:8080/",
          "height": 206
        },
        "id": "e656908e",
        "outputId": "1b217195-58c1-41f7-a492-99b181a3e922"
      },
      "outputs": [],
      "source": [
        "# CSV 읽기 예시 (인터넷 필요)\n",
        "url = 'https://raw.githubusercontent.com/mwaskom/seaborn-data/master/iris.csv'\n",
        "iris = pd.read_csv(url)\n",
        "iris.head()"
      ]
    },
    {
      "cell_type": "code",
      "execution_count": null,
      "id": "4ee34816",
      "metadata": {
        "colab": {
          "base_uri": "https://localhost:8080/"
        },
        "id": "4ee34816",
        "outputId": "200047bc-bdb1-405a-f13b-7d108ecf67ca"
      },
      "outputs": [],
      "source": [
        "# 1. 특정 열만 선택하기\n",
        "print(\"sepal_length 열만 선택:\")\n",
        "print(iris['sepal_length'].head())\n",
        "\n",
        "print(\"\\n여러 열 선택:\")\n",
        "selected_cols = iris[['sepal_length', 'species']]\n",
        "print(selected_cols.head())\n"
      ]
    },
    {
      "cell_type": "code",
      "execution_count": null,
      "id": "d2d2bfff",
      "metadata": {
        "colab": {
          "base_uri": "https://localhost:8080/"
        },
        "id": "d2d2bfff",
        "outputId": "d5924cfd-ba44-4182-9d82-fbe9e51d73cf"
      },
      "outputs": [],
      "source": [
        "# 2. 특정 열 삭제하기 (원본은 유지)\n",
        "print(\"petal_width 열을 제외한 데이터:\")\n",
        "iris_no_petal_width = iris.drop('petal_width', axis=1)\n",
        "print(iris_no_petal_width.head())\n",
        "\n",
        "print(\"\\n여러 열 삭제:\")\n",
        "iris_minimal = iris.drop(['petal_length', 'petal_width'], axis=1)\n",
        "print(iris_minimal.head())\n"
      ]
    },
    {
      "cell_type": "code",
      "execution_count": null,
      "id": "71cf6461",
      "metadata": {
        "colab": {
          "base_uri": "https://localhost:8080/"
        },
        "id": "71cf6461",
        "outputId": "4f1eb674-1835-41bb-ce98-74ec7d39905e"
      },
      "outputs": [],
      "source": [
        "# 3. 조건부 행 선택 (필터링)\n",
        "print(\"sepal_length가 5.0보다 큰 행들:\")\n",
        "large_sepals = iris[iris['sepal_length'] > 5.0]\n",
        "print(f\"전체 {len(iris)}개 중 {len(large_sepals)}개 행이 조건을 만족\")\n",
        "print(large_sepals.head())\n",
        "\n",
        "print(\"\\nsetosa 종만 선택:\")\n",
        "setosa_only = iris[iris['species'] == 'setosa']\n",
        "print(f\"setosa 종은 총 {len(setosa_only)}개\")\n",
        "print(setosa_only.head())\n"
      ]
    },
    {
      "cell_type": "code",
      "execution_count": null,
      "id": "f94b3ef5",
      "metadata": {
        "colab": {
          "base_uri": "https://localhost:8080/"
        },
        "id": "f94b3ef5",
        "outputId": "b7dd518d-d4fa-419d-981e-dbdb4b9821b1"
      },
      "outputs": [],
      "source": [
        "# 4. 복합 조건으로 필터링\n",
        "print(\"sepal_length > 6.0 AND species == 'virginica':\")\n",
        "complex_filter = iris[(iris['sepal_length'] > 6.0) & (iris['species'] == 'virginica')]\n",
        "print(f\"조건을 만족하는 행: {len(complex_filter)}개\")\n",
        "print(complex_filter.head())\n",
        "\n",
        "print(\"\\nsetosa 또는 versicolor 종:\")\n",
        "two_species = iris[iris['species'].isin(['setosa', 'versicolor'])]\n",
        "print(f\"setosa + versicolor: {len(two_species)}개\")\n",
        "print(two_species['species'].value_counts())\n"
      ]
    },
    {
      "cell_type": "code",
      "execution_count": null,
      "id": "606d7ae9",
      "metadata": {
        "colab": {
          "base_uri": "https://localhost:8080/"
        },
        "id": "606d7ae9",
        "outputId": "b5cd4930-103c-4b6c-feca-e9234525ed8b"
      },
      "outputs": [],
      "source": [
        "# 5. 기본 통계 정보 확인\n",
        "print(\"데이터셋 기본 정보:\")\n",
        "print(f\"형태: {iris.shape}\")\n",
        "print(f\"컬럼명: {list(iris.columns)}\")\n",
        "\n",
        "print(\"\\n수치형 컬럼의 기본 통계:\")\n",
        "print(iris.describe())\n",
        "\n",
        "print(\"\\n각 종의 개수:\")\n",
        "print(iris['species'].value_counts())\n"
      ]
    },
    {
      "cell_type": "code",
      "execution_count": null,
      "id": "fdfcfaf5",
      "metadata": {
        "colab": {
          "base_uri": "https://localhost:8080/"
        },
        "id": "fdfcfaf5",
        "outputId": "4aea9896-d6f0-48cc-c093-76969a34dce3"
      },
      "outputs": [],
      "source": [
        "# 7. 그룹별 집계\n",
        "print(\"종별 평균값:\")\n",
        "species_mean = iris.groupby('species').mean()\n",
        "print(species_mean)\n",
        "\n",
        "print(\"\\n종별 sepal_length의 최대값과 최소값:\")\n",
        "species_stats = iris.groupby('species')['sepal_length'].agg(['min', 'max', 'mean'])\n",
        "print(species_stats)\n"
      ]
    },
    {
      "cell_type": "code",
      "execution_count": null,
      "id": "aaf2a169",
      "metadata": {
        "colab": {
          "base_uri": "https://localhost:8080/"
        },
        "id": "aaf2a169",
        "outputId": "79d61ccb-0893-4491-c12f-93a244d328df"
      },
      "outputs": [],
      "source": [
        "# 6. 데이터 정렬\n",
        "print(\"sepal_length를 기준으로 내림차순 정렬:\")\n",
        "sorted_iris = iris.sort_values('sepal_length', ascending=False)\n",
        "print(sorted_iris.head())\n",
        "\n",
        "print(\"\\n여러 컬럼으로 정렬 (species 오름차순, sepal_length 내림차순):\")\n",
        "multi_sorted = iris.sort_values(['species', 'sepal_length'], ascending=[True, False])\n",
        "print(multi_sorted.head(10))\n"
      ]
    },
    {
      "cell_type": "markdown",
      "id": "f4184ad8",
      "metadata": {},
      "source": [
        "**연습 2‑3**: 직접 해보기\n",
        "\n",
        "다음 조건들을 만족하는 데이터를 추출해보세요:\n",
        "1. `petal_length`가 4.0 이상인 행들만 선택\n",
        "2. `sepal_width`와 `petal_length` 컬럼만 포함\n",
        "3. `petal_length` 기준으로 내림차순 정렬\n"
      ]
    },
    {
      "cell_type": "code",
      "execution_count": null,
      "id": "75efdce6",
      "metadata": {
        "id": "75efdce6"
      },
      "outputs": [],
      "source": [
        "# 여기에 코드를 작성해보세요\n",
        "# 힌트: 조건 필터링 -> 컬럼 선택 -> 정렬 순서로 진행\n",
        "\n"
      ]
    },
    {
      "cell_type": "markdown",
      "id": "493c1746",
      "metadata": {
        "id": "493c1746"
      },
      "source": [
        "## 3. Matplotlib 기초"
      ]
    },
    {
      "cell_type": "code",
      "execution_count": null,
      "id": "b430c18c",
      "metadata": {
        "colab": {
          "base_uri": "https://localhost:8080/",
          "height": 469
        },
        "id": "b430c18c",
        "outputId": "a296ffb4-149f-4fc8-ecbe-0c91ddca6c3a"
      },
      "outputs": [],
      "source": [
        "x = np.linspace(0, 10, 100)\n",
        "plt.plot(x, np.sin(x))\n",
        "plt.title('Sine Wave')\n",
        "plt.xlabel('x')\n",
        "plt.ylabel('sin(x)')\n",
        "plt.show()"
      ]
    },
    {
      "cell_type": "markdown",
      "id": "QOL380yC97I4",
      "metadata": {
        "id": "QOL380yC97I4"
      },
      "source": [
        "**연습 3‑1**: iris 데이터셋으로 다양한 그래프 그리기"
      ]
    },
    {
      "cell_type": "code",
      "execution_count": 21,
      "id": "e7f67d9a",
      "metadata": {
        "colab": {
          "base_uri": "https://localhost:8080/",
          "height": 500
        },
        "id": "e7f67d9a",
        "outputId": "d6a04685-69f1-4aa7-fdc0-44e218985aaa"
      },
      "outputs": [],
      "source": [
        "# 1. 히스토그램 - 각 특성의 분포 확인\n",
        "plt.figure(figsize=(12, 8))\n",
        "\n",
        "# 2x2 서브플롯 생성\n",
        "plt.subplot(2, 2, 1)\n",
        "plt.hist(iris['sepal_length'], bins=20, alpha=0.7, color='skyblue')\n",
        "plt.title('꽃받침 길이 분포')\n",
        "plt.xlabel('Sepal Length (cm)')\n",
        "plt.ylabel('빈도')\n",
        "\n",
        "plt.subplot(2, 2, 2)\n",
        "plt.hist(iris['sepal_width'], bins=20, alpha=0.7, color='lightcoral')\n",
        "plt.title('꽃받침 너비 분포')\n",
        "plt.xlabel('Sepal Width (cm)')\n",
        "plt.ylabel('빈도')\n",
        "\n",
        "plt.subplot(2, 2, 3)\n",
        "plt.hist(iris['petal_length'], bins=20, alpha=0.7, color='lightgreen')\n",
        "plt.title('꽃잎 길이 분포')\n",
        "plt.xlabel('Petal Length (cm)')\n",
        "plt.ylabel('빈도')\n",
        "\n",
        "plt.subplot(2, 2, 4)\n",
        "plt.hist(iris['petal_width'], bins=20, alpha=0.7, color='gold')\n",
        "plt.title('꽃잎 너비 분포')\n",
        "plt.xlabel('Petal Width (cm)')\n",
        "plt.ylabel('빈도')\n",
        "\n",
        "plt.tight_layout()\n",
        "plt.show()\n"
      ]
    },
    {
      "cell_type": "code",
      "execution_count": null,
      "id": "eaa68a54",
      "metadata": {
        "colab": {
          "base_uri": "https://localhost:8080/",
          "height": 494
        },
        "id": "eaa68a54",
        "outputId": "9ae6083e-2c61-4a53-d823-06266f4c3b37"
      },
      "outputs": [],
      "source": [
        "# 2. 산점도 - 두 변수 간의 관계\n",
        "plt.figure(figsize=(10, 6))\n",
        "\n",
        "# 종별로 다른 색상 지정\n",
        "colors = {'setosa': 'red', 'versicolor': 'blue', 'virginica': 'green'}\n",
        "\n",
        "for species in iris['species'].unique():\n",
        "    species_data = iris[iris['species'] == species]\n",
        "    plt.scatter(species_data['sepal_length'], species_data['petal_length'],\n",
        "                c=colors[species], label=species, alpha=0.7, s=50)\n",
        "\n",
        "plt.xlabel('꽃받침 길이 (Sepal Length)')\n",
        "plt.ylabel('꽃잎 길이 (Petal Length)')\n",
        "plt.title('꽃받침 길이 vs 꽃잎 길이 (종별 구분)')\n",
        "plt.legend()\n",
        "plt.grid(True, alpha=0.3)\n",
        "plt.show()\n"
      ]
    },
    {
      "cell_type": "code",
      "execution_count": null,
      "id": "9eaa8c4a",
      "metadata": {
        "colab": {
          "base_uri": "https://localhost:8080/",
          "height": 663
        },
        "id": "9eaa8c4a",
        "outputId": "d4fa1062-31db-4c83-8ffd-7c1c7fd09ecd"
      },
      "outputs": [],
      "source": [
        "# 3. 박스플롯 - 종별 특성 비교\n",
        "plt.figure(figsize=(12, 8))\n",
        "\n",
        "# 각 특성별로 종별 박스플롯\n",
        "features = ['sepal_length', 'sepal_width', 'petal_length', 'petal_width']\n",
        "feature_names = ['꽃받침 길이', '꽃받침 너비', '꽃잎 길이', '꽃잎 너비']\n",
        "\n",
        "for i, (feature, name) in enumerate(zip(features, feature_names)):\n",
        "    plt.subplot(2, 2, i+1)\n",
        "\n",
        "    # 종별 데이터 준비\n",
        "    setosa_data = iris[iris['species'] == 'setosa'][feature]\n",
        "    versicolor_data = iris[iris['species'] == 'versicolor'][feature]\n",
        "    virginica_data = iris[iris['species'] == 'virginica'][feature]\n",
        "\n",
        "    # 박스플롯 그리기\n",
        "    plt.boxplot([setosa_data, versicolor_data, virginica_data],\n",
        "                labels=['setosa', 'versicolor', 'virginica'])\n",
        "    plt.title(f'{name} 종별 비교')\n",
        "    plt.ylabel('값 (cm)')\n",
        "\n",
        "plt.tight_layout()\n",
        "plt.show()\n"
      ]
    },
    {
      "cell_type": "code",
      "execution_count": null,
      "id": "5ea8949e",
      "metadata": {
        "colab": {
          "base_uri": "https://localhost:8080/",
          "height": 317
        },
        "id": "5ea8949e",
        "outputId": "b62da230-46d0-4cb6-bcfc-ced133b84422"
      },
      "outputs": [],
      "source": [
        "# 4. 막대그래프 - 종별 평균값 비교\n",
        "plt.figure(figsize=(12, 5))\n",
        "\n",
        "# 종별 평균 계산\n",
        "species_mean = iris.groupby('species')[['sepal_length', 'petal_length']].mean()\n",
        "\n",
        "plt.subplot(1, 2, 1)\n",
        "species_mean['sepal_length'].plot(kind='bar', color=['coral', 'lightblue', 'lightgreen'])\n",
        "plt.title('종별 꽃받침 길이 평균')\n",
        "plt.ylabel('평균 길이 (cm)')\n",
        "plt.xticks(rotation=45)\n",
        "\n",
        "plt.subplot(1, 2, 2)\n",
        "species_mean['petal_length'].plot(kind='bar', color=['coral', 'lightblue', 'lightgreen'])\n",
        "plt.title('종별 꽃잎 길이 평균')\n",
        "plt.ylabel('평균 길이 (cm)')\n",
        "plt.xticks(rotation=45)\n",
        "\n",
        "plt.tight_layout()\n",
        "plt.show()\n"
      ]
    },
    {
      "cell_type": "code",
      "execution_count": null,
      "id": "e66b76df",
      "metadata": {
        "colab": {
          "base_uri": "https://localhost:8080/",
          "height": 554
        },
        "id": "e66b76df",
        "outputId": "e3dc079a-17b8-4720-d11e-285f069698d4"
      },
      "outputs": [],
      "source": [
        "# 6. 종합 대시보드 - 한 화면에 여러 그래프\n",
        "fig, axes = plt.subplots(2, 3, figsize=(15, 10))\n",
        "fig.suptitle('Iris 데이터셋 종합 분석', fontsize=16)\n",
        "\n",
        "# 1. 종별 개수 파이차트\n",
        "species_counts = iris['species'].value_counts()\n",
        "axes[0, 0].pie(species_counts.values, labels=species_counts.index, autopct='%1.1f%%',\n",
        "               colors=['lightcoral', 'lightblue', 'lightgreen'])\n",
        "axes[0, 0].set_title('종별 비율')\n",
        "\n",
        "# 2. 꽃받침 길이 vs 너비 산점도\n",
        "for species, color in zip(iris['species'].unique(), ['red', 'blue', 'green']):\n",
        "    species_data = iris[iris['species'] == species]\n",
        "    axes[0, 1].scatter(species_data['sepal_length'], species_data['sepal_width'],\n",
        "                      c=color, label=species, alpha=0.6)\n",
        "axes[0, 1].set_xlabel('꽃받침 길이')\n",
        "axes[0, 1].set_ylabel('꽃받침 너비')\n",
        "axes[0, 1].set_title('꽃받침 길이 vs 너비')\n",
        "axes[0, 1].legend()\n",
        "\n",
        "# 3. 꽃잎 길이 히스토그램\n",
        "axes[0, 2].hist(iris['petal_length'], bins=20, alpha=0.7, color='purple')\n",
        "axes[0, 2].set_xlabel('꽃잎 길이')\n",
        "axes[0, 2].set_ylabel('빈도')\n",
        "axes[0, 2].set_title('꽃잎 길이 분포')\n",
        "\n",
        "# 4. 종별 꽃받침 길이 박스플롯\n",
        "setosa = iris[iris['species'] == 'setosa']['sepal_length']\n",
        "versicolor = iris[iris['species'] == 'versicolor']['sepal_length']\n",
        "virginica = iris[iris['species'] == 'virginica']['sepal_length']\n",
        "axes[1, 0].boxplot([setosa, versicolor, virginica],\n",
        "                   labels=['setosa', 'versicolor', 'virginica'])\n",
        "axes[1, 0].set_ylabel('꽃받침 길이')\n",
        "axes[1, 0].set_title('종별 꽃받침 길이')\n",
        "\n",
        "# 5. 종별 평균값 막대그래프\n",
        "species_avg = iris.groupby('species')['petal_length'].mean()\n",
        "axes[1, 1].bar(species_avg.index, species_avg.values,\n",
        "               color=['lightcoral', 'lightblue', 'lightgreen'])\n",
        "axes[1, 1].set_ylabel('평균 꽃잎 길이')\n",
        "axes[1, 1].set_title('종별 평균 꽃잎 길이')\n",
        "axes[1, 1].tick_params(axis='x', rotation=45)\n",
        "\n",
        "# 6. 꽃잎 길이 vs 너비 산점도\n",
        "for species, color in zip(iris['species'].unique(), ['red', 'blue', 'green']):\n",
        "    species_data = iris[iris['species'] == species]\n",
        "    axes[1, 2].scatter(species_data['petal_length'], species_data['petal_width'],\n",
        "                      c=color, label=species, alpha=0.6)\n",
        "axes[1, 2].set_xlabel('꽃잎 길이')\n",
        "axes[1, 2].set_ylabel('꽃잎 너비')\n",
        "axes[1, 2].set_title('꽃잎 길이 vs 너비')\n",
        "axes[1, 2].legend()\n",
        "\n",
        "plt.tight_layout()\n",
        "plt.show()\n"
      ]
    },
    {
      "cell_type": "markdown",
      "id": "46d7M1LF-DVU",
      "metadata": {
        "id": "46d7M1LF-DVU"
      },
      "source": [
        "## 4. Seaborn 기초\n",
        "\n",
        "Seaborn은 matplotlib을 기반으로 한 통계 시각화 라이브러리입니다. 더 아름답고 통계적으로 유용한 그래프를 쉽게 만들 수 있습니다.\n"
      ]
    },
    {
      "cell_type": "code",
      "execution_count": null,
      "id": "3699b845",
      "metadata": {
        "colab": {
          "base_uri": "https://localhost:8080/",
          "height": 725
        },
        "id": "3699b845",
        "outputId": "c6a3ce5f-63c1-479c-f322-ef0eec532d85"
      },
      "outputs": [],
      "source": [
        "# 1. Pairplot - 모든 변수 간의 관계를 한 번에 보기\n",
        "print(\"모든 특성 간의 관계를 한 번에 시각화:\")\n",
        "plt.figure(figsize=(12, 10))\n",
        "\n",
        "# 종별로 다른 색상으로 pairplot 생성\n",
        "g = sns.pairplot(iris, hue='species', diag_kind='hist',\n",
        "                 palette=['red', 'blue', 'green'])\n",
        "g.fig.suptitle('Iris Dataset - 모든 특성 간의 관계', y=1.02, fontsize=16)\n",
        "plt.show()\n"
      ]
    },
    {
      "cell_type": "code",
      "execution_count": null,
      "id": "003f6b94",
      "metadata": {
        "colab": {
          "base_uri": "https://localhost:8080/",
          "height": 607
        },
        "id": "003f6b94",
        "outputId": "ff036144-f925-45c7-b027-f4aeb939ce21"
      },
      "outputs": [],
      "source": [
        "# 2. Heatmap - 상관관계를 더 예쁘게 시각화\n",
        "plt.figure(figsize=(8, 6))\n",
        "\n",
        "# 수치형 데이터만 선택하여 상관계수 계산\n",
        "numeric_data = iris.select_dtypes(include=[np.number])\n",
        "correlation_matrix = numeric_data.corr()\n",
        "\n",
        "# seaborn으로 더 예쁜 히트맵 생성\n",
        "sns.heatmap(correlation_matrix,\n",
        "            annot=True,          # 상관계수 값 표시\n",
        "            cmap='coolwarm',     # 색상 맵\n",
        "            center=0,            # 0을 중심으로 색상 조정\n",
        "            square=True,         # 정사각형 셀\n",
        "            linewidths=0.5,      # 셀 사이 선\n",
        "            fmt='.2f')           # 소수점 둘째 자리까지\n",
        "\n",
        "plt.title('Iris Dataset 특성 간 상관관계 (Seaborn)', fontsize=14, pad=20)\n",
        "plt.tight_layout()\n",
        "plt.show()\n"
      ]
    },
    {
      "cell_type": "code",
      "execution_count": null,
      "id": "e4434cf6",
      "metadata": {
        "colab": {
          "base_uri": "https://localhost:8080/",
          "height": 446
        },
        "id": "e4434cf6",
        "outputId": "a73596d4-0f5c-4be8-f80d-a9b5c5454ac9"
      },
      "outputs": [],
      "source": [
        "# 3. Violin Plot - 분포 형태와 밀도를 함께 보기\n",
        "plt.figure(figsize=(14, 8))\n",
        "\n",
        "# 각 특성별로 종별 violin plot\n",
        "features = ['sepal_length', 'sepal_width', 'petal_length', 'petal_width']\n",
        "feature_names = ['꽃받침 길이', '꽃받침 너비', '꽃잎 길이', '꽃잎 너비']\n",
        "\n",
        "for i, (feature, name) in enumerate(zip(features, feature_names)):\n",
        "    plt.subplot(2, 2, i+1)\n",
        "\n",
        "    # violin plot 생성\n",
        "    sns.violinplot(data=iris, x='species', y=feature,\n",
        "                   palette=['lightcoral', 'lightblue', 'lightgreen'])\n",
        "\n",
        "    plt.title(f'{name} 분포 (종별)', fontsize=12)\n",
        "    plt.xlabel('종')\n",
        "    plt.ylabel(f'{name} (cm)')\n",
        "\n",
        "plt.suptitle('Iris Dataset - Violin Plot으로 보는 종별 분포', fontsize=16, y=1.02)\n",
        "plt.tight_layout()\n",
        "plt.show()\n"
      ]
    },
    {
      "cell_type": "markdown",
      "id": "jOEYH8RE-JhQ",
      "metadata": {
        "id": "jOEYH8RE-JhQ"
      },
      "source": [
        "## 요약\n",
        "\n",
        "이번 실습에서 배운 내용:\n",
        "\n",
        "### NumPy\n",
        "- 다차원 배열 생성 및 조작\n",
        "- 브로드캐스팅을 통한 벡터화 연산\n",
        "\n",
        "### pandas\n",
        "- DataFrame과 Series 생성 및 조작\n",
        "- 데이터 선택, 필터링, 정렬, 집계\n",
        "- CSV 파일 읽기 및 기본 통계 분석\n",
        "\n",
        "### Matplotlib\n",
        "- 히스토그램, 산점도, 박스플롯, 막대그래프\n",
        "- 서브플롯을 활용한 다중 그래프\n",
        "- 상관관계 히트맵\n",
        "- 종합 대시보드 구성\n",
        "\n",
        "### Seaborn\n",
        "- Pairplot을 통한 모든 변수 관계 시각화\n",
        "- Violin plot으로 분포 형태와 밀도 표현\n",
        "\n"
      ]
    }
  ],
  "metadata": {
    "colab": {
      "provenance": []
    },
    "kernelspec": {
      "display_name": "Python 3",
      "language": "python",
      "name": "python3"
    },
    "language_info": {
      "codemirror_mode": {
        "name": "ipython",
        "version": 3
      },
      "file_extension": ".py",
      "mimetype": "text/x-python",
      "name": "python",
      "nbconvert_exporter": "python",
      "pygments_lexer": "ipython3",
      "version": "3.9.6"
    }
  },
  "nbformat": 4,
  "nbformat_minor": 5
}
