{
  "cells": [
    {
      "cell_type": "markdown",
      "metadata": {
        "id": "uZ9QeJw9dKdT"
      },
      "source": [
        "### 필요 라이브러리 설치"
      ]
    },
    {
      "cell_type": "code",
      "execution_count": null,
      "metadata": {
        "id": "ExaKND1Z5Xnv"
      },
      "outputs": [],
      "source": [
        "!pip install -qU langchain-openai\n",
        "!pip install langchain-community\n",
        "!pip install gradio numpy\n",
        "!pip install serpapi\n",
        "!pip install google-search-results\n",
        "!git clone https://github.com/simsimee/HKNU_lecture.git"
      ]
    },
    {
      "cell_type": "markdown",
      "metadata": {
        "id": "H0MqoNomdKdZ"
      },
      "source": [
        "## Gradio 창 구성하기\n",
        "\n",
        "Gradio란?\n",
        "\n",
        "“머신러닝(ML) 모델 체험판을 몇 줄의 파이썬 코드만으로 웹앱처럼 만들 수 있게 해 주는 도구”입니다. 개발 경험이 없어도 버튼‧파일 업로드‧챗봇 같은 UI를 정해진 포맷을 통해 자동으로 만들어준다\"\n"
      ]
    },
    {
      "cell_type": "code",
      "execution_count": null,
      "metadata": {
        "id": "4BDC93sx5MLZ"
      },
      "outputs": [],
      "source": [
        "#고정된 답변을 반환하는 챗봇\n",
        "\n",
        "# gradio 라이브러리를 gr 라는 이름으로 import\n",
        "import gradio as gr\n",
        "\n",
        "# gradio 내부에서 사용할 함수\n",
        "def update(name):\n",
        "    return f\"Welcome to Gradio, {name}!\"\n",
        "\n",
        "with gr.Blocks() as iface:\n",
        "    gr.Markdown(\"Hello, World! I’m yelling in gradio!\")\n",
        "    with gr.Row():\n",
        "        inp = gr.Textbox(placeholder=\"이름이 무엇인가요?\")\n",
        "        out = gr.Textbox()\n",
        "    btn = gr.Button(\"제출\")\n",
        "\n",
        "    # 버튼에 이벤트 리스너를 추가\n",
        "    # 버튼 클릭시 update함수를 호출 -> inp에 입력된 문자열을 파라미터로 전송. 함수의 반환값은 out에 출력\n",
        "    btn.click(fn=update, inputs=inp, outputs=out)\n",
        "iface.launch()"
      ]
    },
    {
      "cell_type": "code",
      "execution_count": null,
      "metadata": {
        "id": "HA9woeAqdKda"
      },
      "outputs": [],
      "source": [
        "iface.close()"
      ]
    },
    {
      "cell_type": "markdown",
      "metadata": {
        "id": "0bIjZUNodKda"
      },
      "source": [
        "#### 답변 내용 구체화 가능하도록 채팅 형태의 인터페이스 UI 수정"
      ]
    },
    {
      "cell_type": "code",
      "execution_count": null,
      "metadata": {
        "id": "cjOMd_jZ5O-_"
      },
      "outputs": [],
      "source": [
        "import gradio as gr\n",
        "\n",
        "\n",
        "def response(message, history, extra):\n",
        "    # extra = 추가 입력 텍스트박스 값\n",
        "    return \"챗봇이 아직 미완성입니다 \" + extra\n",
        "# ───────────────────────────────────────\n",
        "# UI 구성\n",
        "# ───────────────────────────────────────\n",
        "with gr.Blocks(theme=gr.themes.Soft()) as demo:\n",
        "    extra_input = gr.Textbox(value=\"!!!\", label=\"시스템 프롬프트\")\n",
        "\n",
        "    chat = gr.ChatInterface(\n",
        "        fn=response,\n",
        "        title=\"나만의 챗봇\",\n",
        "        description=\"나만의 챗봇으로 Customizing하여 대화하기!\",\n",
        "        submit_btn=\"보내기 📨\",\n",
        "        stop_btn=\"멈추기 ⏹️\",\n",
        "    )\n",
        "\n",
        "    gr.Examples(\n",
        "        examples=[\n",
        "            \"안뇽\",\n",
        "            \"요즘 덥다 ㅠㅠ\",\n",
        "            \"점심메뉴 추천바람, 짜장 짬뽕 택 1\",\n",
        "        ],\n",
        "        inputs=chat.textbox,\n",
        "        label=\"Examples (클릭하면 입력창으로 복사됩니다)\",\n",
        "    )\n",
        "\n",
        "demo.launch()"
      ]
    },
    {
      "cell_type": "code",
      "execution_count": null,
      "metadata": {
        "id": "UA0ce_MVdKda"
      },
      "outputs": [],
      "source": [
        "demo.close()"
      ]
    },
    {
      "cell_type": "markdown",
      "metadata": {
        "id": "ebmcs9nzdKda"
      },
      "source": [
        "### 언어 모델 API(openAI GPT)를 이용하여 불러와서 답변 호출하기"
      ]
    },
    {
      "cell_type": "code",
      "execution_count": 15,
      "metadata": {
        "colab": {
          "base_uri": "https://localhost:8080/"
        },
        "id": "qAphn2cu9F17",
        "outputId": "6b274b20-74b5-44ab-a8cd-aff6cad0217e"
      },
      "outputs": [
        {
          "name": "stdout",
          "output_type": "stream",
          "text": [
            "OpenAI API key를 입력하세요.··········\n"
          ]
        }
      ],
      "source": [
        "import getpass\n",
        "import os\n",
        "os.environ['OPENAI_API_KEY'] = getpass.getpass('OpenAI API key를 입력하세요.')\n",
        "\n",
        "# 아래 입력칸 나오면 토큰 입력후 엔터"
      ]
    },
    {
      "cell_type": "code",
      "execution_count": null,
      "metadata": {
        "id": "KvR1Q5bJ50Qv"
      },
      "outputs": [],
      "source": [
        "from langchain.chat_models import ChatOpenAI\n",
        "from langchain.schema import AIMessage, HumanMessage, SystemMessage\n",
        "import gradio as gr\n",
        "\n",
        "llm = ChatOpenAI(temperature=1.0, model='gpt-4o-mini')\n",
        "\n",
        "def response(message, history):\n",
        "        history_langchain_format = []\n",
        "        for human, ai in history:\n",
        "                history_langchain_format.append(HumanMessage(content=human))\n",
        "                history_langchain_format.append(AIMessage(content=ai))\n",
        "        history_langchain_format.append(HumanMessage(content=message))\n",
        "        gpt_response = llm(history_langchain_format)\n",
        "        return gpt_response.content\n",
        "\n",
        "system_prompt = \"\"\"\n",
        "당신은 8세 아동이고, 아이처럼 말하는 것에 능숙하다.\n",
        "사용자의 질문에 대해 아이처럼 대화를 하여라.\n",
        "\"\"\"\n",
        "\n",
        "with gr.Blocks(theme=gr.themes.Soft()) as demo:\n",
        "    extra_input = gr.Textbox(value=system_prompt, label=\"시스템 프롬프트\", placeholder=\"당신은 8세 아이입니다.\")\n",
        "\n",
        "    chat = gr.ChatInterface(\n",
        "        fn=response,\n",
        "        title=\"나만의 챗봇\",\n",
        "        description=\"나만의 챗봇으로 Customizing하여 대화하기!\",\n",
        "        submit_btn=\"보내기 📨\",\n",
        "        stop_btn=\"멈추기 ⏹️\",\n",
        "    )\n",
        "\n",
        "    gr.Examples(\n",
        "        examples=[\n",
        "            \"안뇽\",\n",
        "            \"요즘 덥다 ㅠㅠ\",\n",
        "            \"점심메뉴 추천바람, 짜장 짬뽕 택 1\",\n",
        "        ],\n",
        "        inputs=chat.textbox,\n",
        "        label=\"Examples (클릭하면 입력창으로 복사됩니다)\",\n",
        "    )\n",
        "\n",
        "demo.launch()"
      ]
    },
    {
      "cell_type": "code",
      "execution_count": null,
      "metadata": {
        "id": "7BTkF2VvdKdb"
      },
      "outputs": [],
      "source": [
        "demo.close()"
      ]
    },
    {
      "cell_type": "markdown",
      "metadata": {
        "id": "Zyl0rkx6dKdb"
      },
      "source": [
        "## 프롬프트 엔지니어링\n",
        "이론 수업에서 배운 내용을 복습해 봅시다.\n",
        "### 1. 명료하게 지시하기\n",
        "- 대통령이 누구야? vs 2021년 멕시코의 대통령은 누구야?\n",
        "- 피보나치 수열 계산하는 코드 작성해줘 vs 피보나치 수열을 효율적으로 개선하는 파이썬 함수를 작성해줘. 그리고 각 코드가 무슨 기능을 하고 왜 쓰여야 하는지 주석을 달아줘."
      ]
    },
    {
      "cell_type": "code",
      "execution_count": null,
      "metadata": {
        "id": "fW7D3khJ6WJj"
      },
      "outputs": [],
      "source": [
        "from langchain.chat_models import ChatOpenAI\n",
        "from langchain.schema import AIMessage, HumanMessage, SystemMessage\n",
        "import gradio as gr\n",
        "\n",
        "llm = ChatOpenAI(temperature=1.0, model='gpt-4o-mini')\n",
        "\n",
        "def response(message, history):\n",
        "    history_langchain_format = []\n",
        "    for human, ai in history:\n",
        "        history_langchain_format.append(HumanMessage(content=human))\n",
        "        history_langchain_format.append(AIMessage(content=ai))\n",
        "    history_langchain_format.append(HumanMessage(content=message))\n",
        "    gpt_response = llm(history_langchain_format)\n",
        "    return gpt_response.content\n",
        "\n",
        "system_prompt = \"\"\"인공지능 모델로서 유저의 질문이나 요청에 적절히 응답하세요.\n",
        "유저가 사용하는 언어에 맞춰서 한국어 또는 영어로 답변해야 합니다.\n",
        "또한 유저가 사용하는 말투와 톤에 맞춰서 적절히 응답하도록 하세요.\"\"\"\n",
        "\n",
        "\n",
        "with gr.Blocks(theme=gr.themes.Soft()) as demo:\n",
        "    extra_input = gr.Textbox(value=system_prompt, label=\"시스템 프롬프트\", placeholder=\"어린아이가 이해할 수 있도록 친절하게 답변해주세요\")\n",
        "\n",
        "    chat = gr.ChatInterface(\n",
        "        fn=response,\n",
        "        title=\"나만의 챗봇\",\n",
        "        description=\"나만의 챗봇으로 Customizing하여 대화하기!\",\n",
        "        submit_btn=\"보내기 📨\",\n",
        "        stop_btn=\"멈추기 ⏹️\",\n",
        "    )\n",
        "\n",
        "    gr.Examples(\n",
        "        examples=[\n",
        "            \"안뇽\",\n",
        "            \"요즘 덥다 ㅠㅠ\",\n",
        "            \"점심메뉴 추천바람, 짜장 짬뽕 택 1\",\n",
        "        ],\n",
        "        inputs=chat.textbox,\n",
        "        label=\"Examples (클릭하면 입력창으로 복사됩니다)\",\n",
        "    )\n",
        "\n",
        "demo.launch()"
      ]
    },
    {
      "cell_type": "code",
      "execution_count": null,
      "metadata": {
        "id": "Ht9H3dm1dKdb"
      },
      "outputs": [],
      "source": [
        "demo.close()"
      ]
    },
    {
      "cell_type": "markdown",
      "metadata": {
        "id": "3Qv6QCo2dKdb"
      },
      "source": [
        "### 2. 참고 가능한 텍스트를 제공하기\n",
        "- 아이폰 16 가격 얼마야?\n",
        "- 텍스트 파일 불러오기"
      ]
    },
    {
      "cell_type": "code",
      "execution_count": null,
      "metadata": {
        "id": "PhRXAp8HdKdc"
      },
      "outputs": [],
      "source": [
        "from langchain.chat_models import ChatOpenAI\n",
        "from langchain.schema import AIMessage, HumanMessage, SystemMessage\n",
        "import gradio as gr\n",
        "\n",
        "llm = ChatOpenAI(temperature=1.0, model='gpt-4o-mini')\n",
        "\n",
        "def response(message, history):\n",
        "        history_langchain_format = []\n",
        "        for human, ai in history:\n",
        "                history_langchain_format.append(HumanMessage(content=human))\n",
        "                history_langchain_format.append(AIMessage(content=ai))\n",
        "        history_langchain_format.append(HumanMessage(content=message))\n",
        "        gpt_response = llm(history_langchain_format)\n",
        "        return gpt_response.content\n",
        "\n",
        "system_prompt = \"\"\"인공지능 모델로서 유저의 질문이나 요청에 적절히 응답하세요.\n",
        "유저가 사용하는 언어에 맞춰서 한국어 또는 영어로 답변해야 합니다.\n",
        "또한 유저가 사용하는 말투와 톤에 맞춰서 적절히 응답하도록 하세요.\n",
        "당신의 지식으로 답변하기 어려운 질문에 대해서는 모른다고 답변해야 합니다.\"\"\"\n",
        "\n",
        "with gr.Blocks(theme=gr.themes.Soft()) as demo:\n",
        "    extra_input = gr.Textbox(value=system_prompt, label=\"시스템 프롬프트\", placeholder=\"어린아이가 이해할 수 있도록 친절하게 답변해주세요\")\n",
        "\n",
        "    chat = gr.ChatInterface(\n",
        "        fn=response,\n",
        "        title=\"나만의 챗봇\",\n",
        "        description=\"나만의 챗봇으로 Customizing하여 대화하기!\",\n",
        "        submit_btn=\"보내기 📨\",\n",
        "        stop_btn=\"멈추기 ⏹️\",\n",
        "    )\n",
        "\n",
        "    gr.Examples(\n",
        "        examples=[\n",
        "            \"안뇽\",\n",
        "            \"요즘 덥다 ㅠㅠ\",\n",
        "            \"점심메뉴 추천바람, 짜장 짬뽕 택 1\",\n",
        "        ],\n",
        "        inputs=chat.textbox,\n",
        "        label=\"Examples (클릭하면 입력창으로 복사됩니다)\",\n",
        "    )\n",
        "\n",
        "demo.launch()"
      ]
    },
    {
      "cell_type": "code",
      "execution_count": null,
      "metadata": {
        "collapsed": true,
        "id": "QS6BYV0DdKdc"
      },
      "outputs": [],
      "source": [
        "# 텍스트 파일 불러오기\n",
        "with open('/content/HKNU_lecture/데이터/iphone16.txt', 'r') as file:\n",
        "    text = file.read()\n",
        "print(text)"
      ]
    },
    {
      "cell_type": "code",
      "execution_count": null,
      "metadata": {
        "id": "F37Og960dKdc"
      },
      "outputs": [],
      "source": [
        "demo.close()"
      ]
    },
    {
      "cell_type": "markdown",
      "metadata": {
        "id": "geeDb3BXdKdc"
      },
      "source": [
        "### 3. 복잡한 작업은 여러 개의 작은 작업으로 쪼개기"
      ]
    },
    {
      "cell_type": "markdown",
      "metadata": {
        "id": "VKE7qAjydKdc"
      },
      "source": [
        "- 공 튀기기 게임을 만드는 코드를 작성해줘.\n",
        "\n",
        "\n",
        "- 공 튀기기 게임을 만드는 코드를 작성해줘. 아래 내용을 따라 코드를 작성하면 돼.\n",
        "\t1.\t기본 구조 설정\n",
        "“Python으로 공 튀기기 게임을 만들기 위해 Pygame을 설치하고 기본 게임 창을 만드는 코드를 작성해줘.”\n",
        "\t2.\t공 객체 만들기\n",
        "“Pygame을 사용하여 화면에 표시될 공 객체를 정의하는 코드를 작성해줘. 공은 원형으로 그리고, 초기 위치와 속도를 설정해줘.”\n",
        "\t3.\t공의 움직임 구현\n",
        "“Pygame을 사용하여 공이 화면에서 움직이도록 하는 코드를 작성해줘. 공이 벽에 부딪히면 튕기도록 해줘.”\n",
        "\t4.\t게임 루프 설정\n",
        "“게임이 지속적으로 실행될 수 있도록 게임 루프를 설정하고, 공의 위치를 업데이트하며 화면을 다시 그리는 코드를 작성해줘.”\n",
        "\t5.\t사용자 입력 처리\n",
        "“사용자가 공의 위치를 조작할 수 있도록 방향키 입력에 영향을 받을 수 있도록 해줘.”\n",
        "\t6.\t완성된 게임 실행\n",
        "“모든 코드를 합쳐서 완성된 공 튀기기 게임을 실행할 수 있는 python파일로 만들어줘\"\n"
      ]
    },
    {
      "cell_type": "code",
      "execution_count": null,
      "metadata": {
        "id": "47eH1tNAdKdc"
      },
      "outputs": [],
      "source": [
        "from langchain.chat_models import ChatOpenAI\n",
        "from langchain.schema import AIMessage, HumanMessage, SystemMessage\n",
        "import gradio as gr\n",
        "\n",
        "llm = ChatOpenAI(temperature=1.0, model='gpt-4o-mini')\n",
        "\n",
        "def response(message, history):\n",
        "        history_langchain_format = []\n",
        "        for human, ai in history:\n",
        "                history_langchain_format.append(HumanMessage(content=human))\n",
        "                history_langchain_format.append(AIMessage(content=ai))\n",
        "        history_langchain_format.append(HumanMessage(content=message))\n",
        "        gpt_response = llm(history_langchain_format)\n",
        "        return gpt_response.content\n",
        "\n",
        "system_prompt = \"\"\"인공지능 모델로서 유저의 질문이나 요청에 적절히 응답하세요.\n",
        "유저가 사용하는 언어에 맞춰서 한국어 또는 영어로 답변해야 합니다.\n",
        "또한 유저가 사용하는 말투와 톤에 맞춰서 적절히 응답하도록 하세요.\n",
        "유저의 요청을 최대한 잘 들어줄 수 있도록 합니다.\"\"\"\n",
        "\n",
        "with gr.Blocks(theme=gr.themes.Soft()) as demo:\n",
        "    extra_input = gr.Textbox(value=system_prompt, label=\"시스템 프롬프트\", placeholder=\"어린아이가 이해할 수 있도록 친절하게 답변해주세요\")\n",
        "\n",
        "    chat = gr.ChatInterface(\n",
        "        fn=response,\n",
        "        title=\"나만의 챗봇\",\n",
        "        description=\"나만의 챗봇으로 Customizing하여 대화하기!\",\n",
        "        submit_btn=\"보내기 📨\",\n",
        "        stop_btn=\"멈추기 ⏹️\",\n",
        "    )\n",
        "\n",
        "    gr.Examples(\n",
        "        examples=[\n",
        "            \"안뇽\",\n",
        "            \"요즘 덥다 ㅠㅠ\",\n",
        "            \"점심메뉴 추천바람, 짜장 짬뽕 택 1\",\n",
        "        ],\n",
        "        inputs=chat.textbox,\n",
        "        label=\"Examples (클릭하면 입력창으로 복사됩니다)\",\n",
        "    )\n",
        "\n",
        "demo.launch()"
      ]
    },
    {
      "cell_type": "code",
      "execution_count": 30,
      "metadata": {
        "colab": {
          "base_uri": "https://localhost:8080/"
        },
        "id": "gOxEw5X8dKdd",
        "outputId": "c0d9037f-4d31-43a0-f1f2-c4dc186ca76f"
      },
      "outputs": [
        {
          "name": "stdout",
          "output_type": "stream",
          "text": [
            "Closing server running on port: 7861\n"
          ]
        }
      ],
      "source": [
        "demo.close()"
      ]
    },
    {
      "cell_type": "markdown",
      "metadata": {
        "id": "qQECDW8_dKdd"
      },
      "source": [
        "간단한 명령으로 생성된 결과\n"
      ]
    },
    {
      "cell_type": "code",
      "execution_count": null,
      "metadata": {
        "id": "_vt9J2DYdKdd"
      },
      "outputs": [],
      "source": [
        "import pygame\n",
        "import sys\n",
        "\n",
        "# Pygame 초기화\n",
        "pygame.init()\n",
        "\n",
        "# 화면 크기 설정\n",
        "width, height = 800, 600\n",
        "screen = pygame.display.set_mode((width, height))\n",
        "pygame.display.set_caption('공 튀기기 게임')\n",
        "\n",
        "# 색상 정의\n",
        "WHITE = (255, 255, 255)\n",
        "BLACK = (0, 0, 0)\n",
        "RED = (255, 0, 0)\n",
        "\n",
        "# 공 속성\n",
        "ball_pos = [width // 2, height // 2]\n",
        "ball_radius = 20\n",
        "ball_speed = [2, 2]\n",
        "\n",
        "# 게임 루프\n",
        "while True:\n",
        "    for event in pygame.event.get():\n",
        "        if event.type == pygame.QUIT:\n",
        "            pygame.quit()\n",
        "            sys.exit()\n",
        "\n",
        "    # 공 위치 업데이트\n",
        "    ball_pos[0] += ball_speed[0]\n",
        "    ball_pos[1] += ball_speed[1]\n",
        "\n",
        "    # 벽과 충돌 판별\n",
        "    if ball_pos[0] <= ball_radius or ball_pos[0] >= width - ball_radius:\n",
        "        ball_speed[0] = -ball_speed[0]\n",
        "    if ball_pos[1] <= ball_radius or ball_pos[1] >= height - ball_radius:\n",
        "        ball_speed[1] = -ball_speed[1]\n",
        "\n",
        "    # 화면 그리기\n",
        "    screen.fill(WHITE)\n",
        "    pygame.draw.circle(screen, RED, (int(ball_pos[0]), int(ball_pos[1])), ball_radius)\n",
        "\n",
        "    pygame.display.flip()\n",
        "    pygame.time.delay(30)"
      ]
    },
    {
      "cell_type": "markdown",
      "metadata": {
        "id": "f7390yFydKdd"
      },
      "source": [
        "복잡한 명령으로 생성된 결과"
      ]
    },
    {
      "cell_type": "code",
      "execution_count": null,
      "metadata": {
        "id": "0i4vLVNqdKdd"
      },
      "outputs": [],
      "source": [
        "import pygame\n",
        "import sys\n",
        "\n",
        "# 초기화\n",
        "pygame.init()\n",
        "\n",
        "# 화면 설정\n",
        "width, height = 800, 600\n",
        "screen = pygame.display.set_mode((width, height))\n",
        "pygame.display.set_caption('공 튀기기 게임')\n",
        "\n",
        "# 색상 정의\n",
        "black = (0, 0, 0)\n",
        "white = (255, 255, 255)\n",
        "\n",
        "# 공 클래스 정의\n",
        "class Ball:\n",
        "    def __init__(self, x, y, radius, color):\n",
        "        self.x = x\n",
        "        self.y = y\n",
        "        self.radius = radius\n",
        "        self.color = color\n",
        "        self.x_velocity = 5\n",
        "        self.y_velocity = 5\n",
        "\n",
        "    def move(self):\n",
        "        self.x += self.x_velocity\n",
        "        self.y += self.y_velocity\n",
        "\n",
        "        # 벽에 튕기기\n",
        "        if self.x - self.radius < 0 or self.x + self.radius > width:\n",
        "            self.x_velocity = -self.x_velocity\n",
        "        if self.y - self.radius < 0 or self.y + self.radius > height:\n",
        "            self.y_velocity = -self.y_velocity\n",
        "\n",
        "    def draw(self):\n",
        "        pygame.draw.circle(screen, self.color, (self.x, self.y), self.radius)\n",
        "\n",
        "# 공 객체 생성\n",
        "ball = Ball(width // 2, height // 2, 20, white)\n",
        "\n",
        "# 게임 루프 설정\n",
        "while True:\n",
        "    for event in pygame.event.get():\n",
        "        if event.type == pygame.QUIT:\n",
        "            pygame.quit()\n",
        "            sys.exit()\n",
        "\n",
        "    # 사용자 입력 처리\n",
        "    keys = pygame.key.get_pressed()\n",
        "    if keys[pygame.K_LEFT]:\n",
        "        ball.x_velocity = -5\n",
        "    elif keys[pygame.K_RIGHT]:\n",
        "        ball.x_velocity = 5\n",
        "    else:\n",
        "        ball.x_velocity = 0\n",
        "\n",
        "    # 공 움직임 업데이트\n",
        "    ball.move()\n",
        "\n",
        "    # 화면 다시 그리기\n",
        "    screen.fill(black)\n",
        "    ball.draw()\n",
        "    pygame.display.flip()\n",
        "\n",
        "    # 프레임 속도 조절\n",
        "    pygame.time.Clock().tick(60)"
      ]
    },
    {
      "cell_type": "markdown",
      "metadata": {
        "id": "fb5E5RTQdKdd"
      },
      "source": [
        "### 4. 페르소나 설정\n",
        "- 당신은 인공지능 모델로서 어린 초등학생의 질문을 받게 됩니다. 초등학생의 질문에 대해 최대한 자세하고 풍부한 설명이 필요합니다. 또한 친절하고 친근한 말투를 유지할 수 있도록 하세요. 가능한 경우 이모지를 추가하여 친근함을 더하도록 합니다."
      ]
    },
    {
      "cell_type": "code",
      "execution_count": null,
      "metadata": {
        "id": "imTiBKAGdKde"
      },
      "outputs": [],
      "source": [
        "from langchain.chat_models import ChatOpenAI\n",
        "from langchain.schema import AIMessage, HumanMessage, SystemMessage\n",
        "import gradio as gr\n",
        "\n",
        "llm = ChatOpenAI(temperature=1.0, model='gpt-4o-mini')\n",
        "\n",
        "def response(message, history):\n",
        "        history_langchain_format = []\n",
        "        for human, ai in history:\n",
        "                history_langchain_format.append(HumanMessage(content=human))\n",
        "                history_langchain_format.append(AIMessage(content=ai))\n",
        "        history_langchain_format.append(HumanMessage(content=message))\n",
        "        gpt_response = llm(history_langchain_format)\n",
        "        return gpt_response.content\n",
        "\n",
        "system_prompt = \"\"\"당신은 인공지능 모델로서 어린 초등학생의 질문을 받게 됩니다. 초등학생의 질문에 대해 최대한 자세하고 풍부한 설명이 필요합니다. 또한 친절하고 친근한 말투를 유지할 수 있도록 하세요. 가능한 경우 이모지를 추가하여 친근함을 더하도록 합니다.\"\"\"\n",
        "\n",
        "with gr.Blocks(theme=gr.themes.Soft()) as demo:\n",
        "    extra_input = gr.Textbox(value=system_prompt, label=\"시스템 프롬프트\", placeholder=\"어린아이가 이해할 수 있도록 친절하게 답변해주세요\")\n",
        "\n",
        "    chat = gr.ChatInterface(\n",
        "        fn=response,\n",
        "        title=\"나만의 챗봇\",\n",
        "        description=\"나만의 챗봇으로 Customizing하여 대화하기!\",\n",
        "        submit_btn=\"보내기 📨\",\n",
        "        stop_btn=\"멈추기 ⏹️\",\n",
        "    )\n",
        "\n",
        "    gr.Examples(\n",
        "        examples=[[\"안녕, 반가워!\"], [\"요즘 날씨 덥다 ㅠㅠ,를 영어로 번역해줘\"], [\"피보나치 수열이 뭔지 알아? 알면 파이썬으로 코딩해줘\"]],\n",
        "        inputs=chat.textbox,\n",
        "        label=\"Examples (클릭하면 입력창으로 복사됩니다)\",\n",
        "    )\n",
        "\n",
        "demo.launch()"
      ]
    },
    {
      "cell_type": "code",
      "execution_count": 32,
      "metadata": {
        "colab": {
          "base_uri": "https://localhost:8080/"
        },
        "id": "5vORbiPpdKde",
        "outputId": "81905781-58d4-4ad3-cfb6-8c3a1a4be691"
      },
      "outputs": [
        {
          "name": "stdout",
          "output_type": "stream",
          "text": [
            "Closing server running on port: 7861\n"
          ]
        }
      ],
      "source": [
        "demo.close()"
      ]
    },
    {
      "cell_type": "markdown",
      "metadata": {
        "id": "5WlpNaOsu0g2"
      },
      "source": [
        "#### 페르소나 설정\n",
        "- 당신은 인공지능 전문가로서 대학생의 질문을 받게 됩니다. 데이터 사이언스와 관련한 질문에 대해 전문적인 내용을 바탕으로 답변합니다. 이때 전문적인 느낌을 줄 수 있는 말투를 유지하도록 하세요."
      ]
    },
    {
      "cell_type": "code",
      "execution_count": null,
      "metadata": {
        "id": "fPD_PgHOdKde"
      },
      "outputs": [],
      "source": [
        "from langchain.chat_models import ChatOpenAI\n",
        "from langchain.schema import AIMessage, HumanMessage, SystemMessage\n",
        "import gradio as gr\n",
        "\n",
        "llm = ChatOpenAI(temperature=1.0, model='gpt-4o-mini')\n",
        "\n",
        "def response(message, history):\n",
        "        history_langchain_format = []\n",
        "        for human, ai in history:\n",
        "                history_langchain_format.append(HumanMessage(content=human))\n",
        "                history_langchain_format.append(AIMessage(content=ai))\n",
        "        history_langchain_format.append(HumanMessage(content=message))\n",
        "        gpt_response = llm(history_langchain_format)\n",
        "        return gpt_response.content\n",
        "\n",
        "system_prompt = \"\"\"당신은 인공지능 전문가로서 대학생의 질문을 받게 됩니다. 데이터 사이언스와 관련한 질문에 대해 전문적인 내용을 바탕으로 답변합니다. 이때 전문적인 느낌을 줄 수 있는 말투를 유지하도록 하세요.\"\"\"\n",
        "\n",
        "with gr.Blocks(theme=gr.themes.Soft()) as demo:\n",
        "    extra_input = gr.Textbox(value=system_prompt, label=\"시스템 프롬프트\", placeholder=\"어린아이가 이해할 수 있도록 친절하게 답변해주세요\")\n",
        "\n",
        "    chat = gr.ChatInterface(\n",
        "        fn=response,\n",
        "        title=\"나만의 챗봇\",\n",
        "        description=\"나만의 챗봇으로 Customizing하여 대화하기!\",\n",
        "        submit_btn=\"보내기 📨\",\n",
        "        stop_btn=\"멈추기 ⏹️\",\n",
        "    )\n",
        "\n",
        "    gr.Examples(\n",
        "        examples=[[\"안녕, 반가워!\"], [\"요즘 날씨 덥다 ㅠㅠ,를 영어로 번역해줘\"], [\"피보나치 수열이 뭔지 알아? 알면 파이썬으로 코딩해줘\"]],\n",
        "        inputs=chat.textbox,\n",
        "        label=\"Examples (클릭하면 입력창으로 복사됩니다)\",\n",
        "    )\n",
        "\n",
        "demo.launch()"
      ]
    },
    {
      "cell_type": "code",
      "execution_count": 34,
      "metadata": {
        "colab": {
          "base_uri": "https://localhost:8080/"
        },
        "id": "6zfCCpC9dKde",
        "outputId": "fb99e143-4265-4d1c-9667-f644cd1ab411"
      },
      "outputs": [
        {
          "name": "stdout",
          "output_type": "stream",
          "text": [
            "Closing server running on port: 7861\n"
          ]
        }
      ],
      "source": [
        "demo.close()"
      ]
    },
    {
      "cell_type": "markdown",
      "metadata": {},
      "source": [
        "### Query Expansion\n",
        "- 질의 확장(Query Expansion)이란 정보 검색(Information Retrieval)에서 사용자가 입력한 원래의 검색어(질의)에 추가적인 단어를 자동 혹은 수동으로 더해 줌으로써 검색 정확도(특히 재현율, recall)를 높이는 기법"
      ]
    },
    {
      "cell_type": "code",
      "execution_count": null,
      "metadata": {},
      "outputs": [],
      "source": [
        "###TODO"
      ]
    },
    {
      "cell_type": "markdown",
      "metadata": {},
      "source": [
        "### 인터넷 검색 API 연동"
      ]
    },
    {
      "cell_type": "code",
      "execution_count": null,
      "metadata": {},
      "outputs": [],
      "source": [
        "###TODO"
      ]
    }
  ],
  "metadata": {
    "colab": {
      "provenance": []
    },
    "kernelspec": {
      "display_name": "Python 3",
      "name": "python3"
    },
    "language_info": {
      "codemirror_mode": {
        "name": "ipython",
        "version": 3
      },
      "file_extension": ".py",
      "mimetype": "text/x-python",
      "name": "python",
      "nbconvert_exporter": "python",
      "pygments_lexer": "ipython3",
      "version": "3.9.6"
    }
  },
  "nbformat": 4,
  "nbformat_minor": 0
}
