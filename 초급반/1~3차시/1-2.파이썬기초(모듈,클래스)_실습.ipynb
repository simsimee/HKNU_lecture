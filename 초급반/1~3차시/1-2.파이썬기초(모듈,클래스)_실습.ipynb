{
  "cells": [
    {
      "cell_type": "markdown",
      "id": "35ca7ff0",
      "metadata": {
        "id": "35ca7ff0"
      },
      "source": [
        "# Python Modules · Functions · Classes 기초 실습"
      ]
    },
    {
      "cell_type": "markdown",
      "id": "9ds0jlJ9H13A",
      "metadata": {
        "id": "9ds0jlJ9H13A"
      },
      "source": [
        "## 학습 목표\n",
        "- 파이썬 *모듈*을 불러오고(`import`) 직접 만들어보는 방법 이해\n",
        "- *함수* 정의·호출·매개변수·반환값·람다 표현식 사용법 습득\n",
        "- *클래스*를 통해 객체를 만들고 속성·메서드·생성자(`__init__`)를 다루기\n",
        "- 간단한 미니 프로젝트로 세 개념을 연결하여 실습"
      ]
    },
    {
      "cell_type": "markdown",
      "id": "JGX13cV0H6B1",
      "metadata": {
        "id": "JGX13cV0H6B1"
      },
      "source": [
        "## 1. 모듈(Module)\n",
        "모듈은 *.py* 파일 하나에 파이썬 코드(함수·클래스 등)를 담아 놓은 단위입니다. `import` 키워드로 가져와 재사용할 수 있습니다.\n",
        "\n",
        "### 1.1 표준 라이브러리 가져오기"
      ]
    },
    {
      "cell_type": "code",
      "execution_count": null,
      "id": "1J0mk7FiHxNu",
      "metadata": {
        "colab": {
          "base_uri": "https://localhost:8080/"
        },
        "id": "1J0mk7FiHxNu",
        "outputId": "5ba2e546-7fac-43ad-fcfb-58562f3ec7ba"
      },
      "outputs": [],
      "source": [
        "import math, random, os\n",
        "print('원주율:', math.pi)\n",
        "print('무작위 정수 1~10:', random.randint(1, 10))\n",
        "print('현재 작업 디렉터리:', os.getcwd())"
      ]
    },
    {
      "cell_type": "markdown",
      "id": "l_dYq6y0H71_",
      "metadata": {
        "id": "l_dYq6y0H71_"
      },
      "source": [
        "### 1.2 모듈 별칭(alias) & 선택적 가져오기\n",
        "`import numpy as np` 처럼 긴 모듈명을 짧게 줄이거나, `from math import sqrt` 처럼 필요한 객체만 불러올 수도 있습니다."
      ]
    },
    {
      "cell_type": "code",
      "execution_count": null,
      "id": "uBeXIABuIGqU",
      "metadata": {
        "colab": {
          "base_uri": "https://localhost:8080/"
        },
        "id": "uBeXIABuIGqU",
        "outputId": "ed1d3f57-fe89-4025-a2c2-62062b606a85"
      },
      "outputs": [],
      "source": [
        "from math import sqrt as square_root\n",
        "print(square_root(49))"
      ]
    },
    {
      "cell_type": "markdown",
      "id": "wzBO4N-OH5-G",
      "metadata": {
        "id": "wzBO4N-OH5-G"
      },
      "source": [
        "### 1.3 내 모듈 직접 만들어보기\n",
        "Jupyter 안에서도 `%%writefile` 매직을 사용해 새 파이썬 파일을 만들 수 있습니다."
      ]
    },
    {
      "cell_type": "code",
      "execution_count": null,
      "id": "Dtn-0ycUINNU",
      "metadata": {
        "colab": {
          "base_uri": "https://localhost:8080/"
        },
        "id": "Dtn-0ycUINNU",
        "outputId": "857ee98e-b6eb-4388-9bce-5a1df59aae65"
      },
      "outputs": [],
      "source": [
        "%%writefile my_utils.py\n",
        "\"\"\"샘플 유틸리티 모듈\"\"\"\n",
        "\n",
        "def greet(name):\n",
        "    \"\"\"이름을 받아 인사 문자열 반환\"\"\"\n",
        "    return f\"안녕하세요, {name}!\"\n",
        "\n",
        "def add(a, b):\n",
        "    return a + b"
      ]
    },
    {
      "cell_type": "code",
      "execution_count": null,
      "id": "z7_AwsV8IRNq",
      "metadata": {
        "colab": {
          "base_uri": "https://localhost:8080/"
        },
        "id": "z7_AwsV8IRNq",
        "outputId": "76507382-46a1-419b-d76d-7d32023d4a2d"
      },
      "outputs": [],
      "source": [
        "import my_utils\n",
        "print(\"Greet : \" , my_utils.greet('Alice'))\n",
        "print(\"Add : \", my_utils.add(3, 5))"
      ]
    },
    {
      "cell_type": "markdown",
      "id": "Z1qamWkfIqaS",
      "metadata": {
        "id": "Z1qamWkfIqaS"
      },
      "source": [
        "## 2. 함수(Function)\n",
        "함수는 **재사용 가능한 코드 블록**입니다. `def`로 정의하며, 필요 시 값을 반환(`return`)합니다."
      ]
    },
    {
      "cell_type": "code",
      "execution_count": null,
      "id": "66Ug7PqUIki5",
      "metadata": {
        "colab": {
          "base_uri": "https://localhost:8080/"
        },
        "id": "66Ug7PqUIki5",
        "outputId": "3d61a75e-7c39-4b4d-d05e-8be7047fae48"
      },
      "outputs": [],
      "source": [
        "def celsius_to_fahrenheit(c):\n",
        "    \"\"\"섭씨 → 화씨 변환\"\"\"\n",
        "    return c * 9/5 + 32\n",
        "\n",
        "print(celsius_to_fahrenheit(25))"
      ]
    },
    {
      "cell_type": "markdown",
      "id": "BU92IcoOIuP2",
      "metadata": {
        "id": "BU92IcoOIuP2"
      },
      "source": [
        "### 2.1 매개변수 종류\n",
        "- 위치 인자, 키워드 인자\n",
        "- 기본값(Default) 인자\n",
        "- 가변 인자(`*args`, `**kwargs`)"
      ]
    },
    {
      "cell_type": "code",
      "execution_count": null,
      "id": "9VGA18LXIvgV",
      "metadata": {
        "colab": {
          "base_uri": "https://localhost:8080/"
        },
        "id": "9VGA18LXIvgV",
        "outputId": "a044d435-7590-4d07-c6c5-43e1e998fdc8"
      },
      "outputs": [],
      "source": [
        "def report_scores(name, *scores, **meta):\n",
        "    avg = sum(scores)/len(scores)\n",
        "    print(f\"{name} 평균 점수: {avg:.1f}\")\n",
        "    if meta:\n",
        "        print('추가 정보:', meta)\n",
        "\n",
        "report_scores('Dana', 88, 92, 79, subject='math', level=2)"
      ]
    },
    {
      "cell_type": "markdown",
      "id": "z3esNUNhI8Se",
      "metadata": {
        "id": "z3esNUNhI8Se"
      },
      "source": [
        "## 3. 클래스(Class) & 객체(Object)\n",
        "클래스는 **속성(데이터)과 메서드(행동)를 묶는 설계도**입니다."
      ]
    },
    {
      "cell_type": "code",
      "execution_count": null,
      "id": "--LnRmu4I-Qw",
      "metadata": {
        "colab": {
          "base_uri": "https://localhost:8080/"
        },
        "id": "--LnRmu4I-Qw",
        "outputId": "98f01665-dd31-4663-804c-5ee37b77931e"
      },
      "outputs": [],
      "source": [
        "class Person:\n",
        "    \"\"\"사람을 나타내는 간단한 클래스\"\"\"\n",
        "\n",
        "    # 생성자\n",
        "    def __init__(self, name, age):\n",
        "        self.name = name\n",
        "        self.age = age\n",
        "\n",
        "    # 메서드\n",
        "    def greet(self):\n",
        "        return f\"안녕하세요, 저는 {self.name}이고 {self.age}살입니다.\"\n",
        "\n",
        "p = Person('Evan', 30)\n",
        "print(p.greet())"
      ]
    },
    {
      "cell_type": "markdown",
      "id": "jhAyeZezJFva",
      "metadata": {
        "id": "jhAyeZezJFva"
      },
      "source": [
        "### 3.1 속성 vs. 메서드\n",
        "- **인스턴스 속성**: 객체마다 다른 값 (`self.attr`)\n",
        "- **클래스 속성**: 모든 객체가 공유 (`Person.species = 'Human'`)\n",
        "- **인스턴스 메서드**: `self` 매개변수"
      ]
    },
    {
      "cell_type": "code",
      "execution_count": null,
      "id": "dwwxrsUqJE9R",
      "metadata": {
        "colab": {
          "base_uri": "https://localhost:8080/"
        },
        "id": "dwwxrsUqJE9R",
        "outputId": "b126036c-50ae-43fd-b9a7-1f8c06fa23d0"
      },
      "outputs": [],
      "source": [
        "class Student(Person):\n",
        "    def __init__(self, name, age, major):\n",
        "        super().__init__(name, age)\n",
        "        self.major = major\n",
        "\n",
        "    def study(self):\n",
        "        return f\"{self.name}은(는) {self.major} 전공 공부 중입니다.\"\n",
        "\n",
        "s = Student('Fiona', 22, 'Economics')\n",
        "print(s.greet())\n",
        "print(s.study())"
      ]
    },
    {
      "cell_type": "markdown",
      "id": "90UoRKUWJVEa",
      "metadata": {
        "id": "90UoRKUWJVEa"
      },
      "source": [
        "# 미니 프로젝트 실습 : 나만의 계산기 모듈 & 클래스"
      ]
    },
    {
      "cell_type": "markdown",
      "id": "70f20fa5",
      "metadata": {
        "id": "70f20fa5"
      },
      "source": [
        "## 요구사항\n",
        "1. `Calculator` 클래스를 작성해 **더하기(add), 빼기(subtract), 곱하기(multiply), 나누기(divide)** 메서드를 구현한다.\n",
        "2. **클래스 속성** `history` (리스트)를 두어 수행한 연산을 문자열로 누적 기록한다.\n",
        "3. 정적 메서드 `sum_all(*numbers)` 로 임의 개수의 숫자를 합산한다.\n",
        "4. 아래 *예시 정답* 셀처럼 동작하도록 만든다."
      ]
    },
    {
      "cell_type": "markdown",
      "id": "89acedbf",
      "metadata": {
        "id": "89acedbf"
      },
      "source": [
        "### 🔨 여기서 직접 구현해 보세요"
      ]
    },
    {
      "cell_type": "code",
      "execution_count": null,
      "id": "c4653e22",
      "metadata": {
        "id": "c4653e22"
      },
      "outputs": [],
      "source": [
        "# TODO: Calculator 클래스 구현\n",
        "\n",
        "class Calculator:\n",
        "    pass  # <-- 여기를 채워 넣으세요"
      ]
    },
    {
      "cell_type": "markdown",
      "id": "98705e64",
      "metadata": {
        "id": "98705e64"
      },
      "source": [
        "### ✅ 예시 정답"
      ]
    },
    {
      "cell_type": "code",
      "execution_count": 13,
      "id": "5cebe65d",
      "metadata": {
        "colab": {
          "base_uri": "https://localhost:8080/"
        },
        "id": "5cebe65d",
        "outputId": "68674dd0-ecf7-4167-8340-795eab1c9c63"
      },
      "outputs": [
        {
          "name": "stdout",
          "output_type": "stream",
          "text": [
            "3 + 4 = 7\n",
            "10 - 7 = 3\n",
            "6 × 5 = 30\n",
            "8 ÷ 2 = 4.0\n",
            "sum_all(1,2,3,4) = 10\n",
            "\n",
            "연산 기록:\n",
            "- add(3, 4) = 7\n",
            "- subtract(10, 7) = 3\n",
            "- multiply(6, 5) = 30\n",
            "- divide(8, 2) = 4.0\n"
          ]
        }
      ],
      "source": [
        "class Calculator:\n",
        "    \"\"\"사칙연산 및 합계 기능을 제공하는 계산기 클래스\"\"\"\n",
        "\n",
        "    history = []  # 클래스 속성: 모든 인스턴스가 공유\n",
        "\n",
        "    def add(self, a, b):\n",
        "        result = a + b\n",
        "        self.__class__.history.append(f\"add({a}, {b}) = {result}\")\n",
        "        return result\n",
        "\n",
        "    def subtract(self, a, b):\n",
        "        result = a - b\n",
        "        self.__class__.history.append(f\"subtract({a}, {b}) = {result}\")\n",
        "        return result\n",
        "\n",
        "    def multiply(self, a, b):\n",
        "        result = a * b\n",
        "        self.__class__.history.append(f\"multiply({a}, {b}) = {result}\")\n",
        "        return result\n",
        "\n",
        "    def divide(self, a, b):\n",
        "        if b == 0:\n",
        "            raise ValueError(\"0으로 나눌 수 없습니다.\")\n",
        "        result = a / b\n",
        "        self.__class__.history.append(f\"divide({a}, {b}) = {result}\")\n",
        "        return result\n",
        "\n",
        "    @staticmethod\n",
        "    def sum_all(*numbers):\n",
        "        return sum(numbers)\n",
        "\n",
        "# 사용 예시\n",
        "a_calc = Calculator()\n",
        "print(\"3 + 4 =\", a_calc.add(3, 4))\n",
        "print(\"10 - 7 =\", a_calc.subtract(10, 7))\n",
        "print(\"6 × 5 =\", a_calc.multiply(6, 5))\n",
        "print(\"8 ÷ 2 =\", a_calc.divide(8, 2))\n",
        "print(\"sum_all(1,2,3,4) =\", Calculator.sum_all(1, 2, 3, 4))\n",
        "print(\"\\n연산 기록:\")\n",
        "for log in Calculator.history:\n",
        "    print(\"-\", log)"
      ]
    }
  ],
  "metadata": {
    "colab": {
      "collapsed_sections": [
        "98705e64"
      ],
      "provenance": []
    },
    "kernelspec": {
      "display_name": "Python 3",
      "name": "python3"
    },
    "language_info": {
      "name": "python"
    }
  },
  "nbformat": 4,
  "nbformat_minor": 5
}
