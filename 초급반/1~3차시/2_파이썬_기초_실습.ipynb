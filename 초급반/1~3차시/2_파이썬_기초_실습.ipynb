{
  "cells": [
    {
      "cell_type": "markdown",
      "metadata": {},
      "source": [
        "# 🐍 파이썬 기초 실습 노트북\n",
        "\n",
        "각 문제 옆의 **TODO** 부분을 채워 보세요.\n",
        "\n",
        "**실행 방법:** 셀에서 <kbd>Shift</kbd>+<kbd>Enter</kbd>를 누르면 실행할 수 있습니다."
      ]
    },
    {
      "cell_type": "markdown",
      "metadata": {},
      "source": [
        "## 1. 파이썬 기초"
      ]
    },
    {
      "cell_type": "markdown",
      "metadata": {},
      "source": [
        "### 문제 1‑1. 숫자 연산과 `print()`\n",
        "1. 두 숫자 7과 3의 **합**을 출력해 보세요.\n",
        "2. 두 숫자의 **평균(산술평균)**을 구해 출력해 보세요."
      ]
    },
    {
      "cell_type": "code",
      "execution_count": null,
      "metadata": {},
      "outputs": [],
      "source": [
        "# TODO: 여기에 코드를 작성해 보세요\n"
      ]
    },
    {
      "cell_type": "markdown",
      "metadata": {},
      "source": [
        "### 문제 1‑2. 변수와 자료형\n",
        "1. 변수 `name`에 본인의 이름(문자열)을 저장하고 출력해 보세요.\n",
        "2. 변수 `age`에 본인의 나이(정수)를 저장하고 출력해 보세요.\n",
        "3. 두 변수의 **자료형**을 `type()` 함수로 확인해 보세요."
      ]
    },
    {
      "cell_type": "code",
      "execution_count": null,
      "metadata": {},
      "outputs": [],
      "source": [
        "# TODO: 여기에 코드를 작성해 보세요\n"
      ]
    },
    {
      "cell_type": "markdown",
      "metadata": {},
      "source": [
        "### 문제 1‑3. 리스트(List) 다루기\n",
        "주어진 리스트 `numbers = [3, 1, 4, 1, 5]` 에서\n",
        "1. 맨 뒤에 숫자 `9`를 **추가(append)** 하세요.\n",
        "2. 리스트를 **오름차순 정렬** 하세요.\n",
        "3. 리스트의 **길이**를 출력해 보세요."
      ]
    },
    {
      "cell_type": "code",
      "execution_count": null,
      "metadata": {},
      "outputs": [],
      "source": [
        "numbers = [3, 1, 4, 1, 5]\n",
        "# TODO: 이 아래에 코드를 작성하세요\n"
      ]
    },
    {
      "cell_type": "markdown",
      "metadata": {},
      "source": [
        "### 문제 1‑4. 튜플(Tuple) 이해하기\n",
        "1. 주어진 튜플 `colors = ('red', 'green', 'blue')` 에 대해 `colors[1]` 의 값을 출력해 보세요.\n",
        "2. 튜플은 **immutable(불변)** 함을 확인하기 위해 두 번째 값을 `'yellow'` 로 바꿔 보세요. 어떤 에러가 나는지 확인하고, 그 이유를 한 줄 주석으로 남겨 보세요."
      ]
    },
    {
      "cell_type": "code",
      "execution_count": null,
      "metadata": {},
      "outputs": [],
      "source": [
        "colors = ('red', 'green', 'blue')\n",
        "# TODO: 아래에 코드를 작성해 보세요\n"
      ]
    },
    {
      "cell_type": "markdown",
      "metadata": {},
      "source": [
        "### 문제 1‑5. 집합(Set) 연산\n",
        "두 집합을 정의합니다: `a = {1, 2, 3}`, `b = {3, 4, 5}`\n",
        "1. 두 집합의 **합집합**을 구하세요.\n",
        "2. 두 집합의 **교집합**을 구하세요.\n",
        "3. 두 집합의 **차집합** (`a - b`) 을 구하세요."
      ]
    },
    {
      "cell_type": "code",
      "execution_count": null,
      "metadata": {},
      "outputs": [],
      "source": [
        "a = {1, 2, 3}\n",
        "b = {3, 4, 5}\n",
        "# TODO: 아래에 코드를 작성해 보세요\n"
      ]
    },
    {
      "cell_type": "markdown",
      "metadata": {},
      "source": [
        "### 문제 1‑6. 딕셔너리(Dictionary) 사용하기\n",
        "1. 빈 딕셔너리 `scores` 를 만든 뒤, 과목 `'math'` 에 90, `'english'` 에 85 점을 추가하세요.\n",
        "2. `'math'` 점수를 출력하세요.\n",
        "3. `scores` 딕셔너리에 있는 과목들의 **평균 점수**를 구해 출력하세요."
      ]
    },
    {
      "cell_type": "code",
      "execution_count": null,
      "metadata": {},
      "outputs": [],
      "source": [
        "# TODO: 아래에 코드를 작성해 보세요\n"
      ]
    },
    {
      "cell_type": "markdown",
      "metadata": {},
      "source": [
        "## 2. 제어문과 반복문"
      ]
    },
    {
      "cell_type": "markdown",
      "metadata": {},
      "source": [
        "### 문제 2‑1. `for` 문으로 합 구하기\n",
        "1부터 100까지의 정수를 모두 더해 결과를 출력해 보세요. (`sum()` 함수 사용 금지)"
      ]
    },
    {
      "cell_type": "code",
      "execution_count": null,
      "metadata": {},
      "outputs": [],
      "source": [
        "# TODO: 아래에 코드를 작성해 보세요\n"
      ]
    },
    {
      "cell_type": "markdown",
      "metadata": {},
      "source": [
        "### 문제 2‑2. `while` 문으로 간단한 추측 게임\n",
        "`secret = 7` 이라는 비밀 숫자가 있습니다.\n",
        "- 사용자가 숫자를 입력하도록 `input()` 을 사용하세요.\n",
        "- 사용자가 비밀 숫자를 맞출 때까지 반복하며, 시도 횟수를 카운트하여 `f-string` 으로 \"축하합니다! X번 만에 맞췄어요\" 를 출력하세요.\n",
        "\n",
        "`input()` 함수는 사용자로부터 입력을 받을 때 사용됩니다. \n",
        "이 함수는 사용자가 입력을 마치고 Enter 키를 누를 때까지 프로그램의 실행을 멈추고, \n",
        "입력된 값을 문자열로 반환합니다. 예를 들어, `user_input = input(\"숫자를 입력하세요: \")` \n",
        "라고 하면, 사용자에게 \"숫자를 입력하세요: \" 라는 메시지가 출력되고, \n",
        "사용자가 입력한 값이 `user_input` 변수에 문자열 형태로 저장됩니다."
      ]
    },
    {
      "cell_type": "code",
      "execution_count": null,
      "metadata": {},
      "outputs": [],
      "source": [
        "secret = 7\n",
        "# TODO: 아래에 코드를 작성해 보세요\n"
      ]
    },
    {
      "cell_type": "markdown",
      "metadata": {},
      "source": [
        "### 문제 2‑3. `if` 문으로 짝수/홀수 판별\n",
        "사용자로부터 정수 하나를 입력받아, 그 수가 **짝수**인지 **홀수**인지 판별하여 출력하세요."
      ]
    },
    {
      "cell_type": "code",
      "execution_count": null,
      "metadata": {},
      "outputs": [],
      "source": [
        "# TODO: 아래에 코드를 작성해 보세요\n"
      ]
    },
    {
      "cell_type": "markdown",
      "metadata": {},
      "source": [
        "## 3. 미니 프로젝트: 학생 성적 분석기\n",
        "다음 리스트는 학생들의 시험 점수입니다.\n",
        "```python\n",
        "scores = [88, 92, 79, 93, 85, 78, 90, 91]\n",
        "```\n",
        "아래 요구사항을 만족하는 프로그램을 작성하세요.\n",
        "1. `scores` 의 **평균**, **최댓값**, **최솟값**을 계산하여 출력하세요.\n",
        "2. 90점 이상인 학생 수를 세어 출력하세요.\n",
        "3. (도전) 점수를 오름차순으로 정렬한 후, **중앙값(메디안)** 을 구해 출력하세요.\n",
        " - 중앙값이란 정렬된 데이터 집합에서 가운데에 위치한 값을 의미합니다. 데이터의 개수가 짝수인 경우, 가운데 두 값의 평균을 중앙값으로 사용합니다."
      ]
    },
    {
      "cell_type": "code",
      "execution_count": null,
      "metadata": {},
      "outputs": [],
      "source": [
        "scores = [88, 92, 79, 93, 85, 78, 90, 91]\n",
        "# TODO: 아래에 코드를 작성해 보세요\n"
      ]
    },
    {
      "cell_type": "markdown",
      "metadata": {},
      "source": [
        "---\n",
        "### 🎉 수고하셨습니다!\n",
        "이 노트북의 모든 셀을 완성했다면, 파이썬의 기본 문법을 성공적으로 연습하신 것입니다.\n",
        "궁금한 점은 언제든 질문하세요."
      ]
    }
  ],
  "metadata": {
    "kernelspec": {
      "display_name": "Python 3",
      "language": "python",
      "name": "python3"
    },
    "language_info": {
      "codemirror_mode": {
        "name": "ipython",
        "version": 3
      },
      "file_extension": ".py",
      "mimetype": "text/x-python",
      "name": "python",
      "nbconvert_exporter": "python",
      "pygments_lexer": "ipython3",
      "version": "3.9.6"
    },
    "orig_nbformat": 4
  },
  "nbformat": 4,
  "nbformat_minor": 5
}
