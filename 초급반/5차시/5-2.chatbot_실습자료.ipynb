{
 "cells": [
  {
   "cell_type": "markdown",
   "metadata": {},
   "source": [
    "### 필요 라이브러리 설치"
   ]
  },
  {
   "cell_type": "code",
   "execution_count": null,
   "metadata": {
    "colab": {
     "base_uri": "https://localhost:8080/"
    },
    "executionInfo": {
     "elapsed": 28699,
     "status": "ok",
     "timestamp": 1719966132245,
     "user": {
      "displayName": "최성욱",
      "userId": "11953964052538069789"
     },
     "user_tz": -540
    },
    "id": "ExaKND1Z5Xnv",
    "outputId": "e6ae0768-9ef6-4e99-df4f-adf0870c39ae"
   },
   "outputs": [],
   "source": [
    "!pip install -qU langchain-openai langchain-core\n",
    "!pip install langchain-community\n",
    "!pip install gradio>=5.0 numpy"
   ]
  },
  {
   "cell_type": "code",
   "execution_count": 5,
   "metadata": {},
   "outputs": [],
   "source": [
    "# 각 포트에서 실행 중인 프로세스를 확인\n",
    "!lsof -i :7865\n",
    "!lsof -i :7866\n",
    "!lsof -i :7867"
   ]
  },
  {
   "cell_type": "markdown",
   "metadata": {},
   "source": [
    "## 그라디오 창 구성하기\n",
    "고정된 답변을 반환하는 챗봇 형식"
   ]
  },
  {
   "cell_type": "code",
   "execution_count": null,
   "metadata": {
    "colab": {
     "base_uri": "https://localhost:8080/",
     "height": 629
    },
    "executionInfo": {
     "elapsed": 10666,
     "status": "ok",
     "timestamp": 1719964953499,
     "user": {
      "displayName": "최성욱",
      "userId": "11953964052538069789"
     },
     "user_tz": -540
    },
    "id": "4BDC93sx5MLZ",
    "outputId": "3dbe6ce1-6011-4940-c2de-512007f981ee"
   },
   "outputs": [],
   "source": [
    "# gradio 라이브러리를 gr 라는 이름으로 import\n",
    "import gradio as gr\n",
    "\n",
    "# gradio 내부에서 사용할 함수\n",
    "def update(name):\n",
    "    return f\"Welcome to Gradio, {name}!\"\n",
    "\n",
    "with gr.Blocks() as iface:\n",
    "    gr.Markdown(\"Hello, World! I’m yelling in gradio!\")\n",
    "    with gr.Row():\n",
    "        inp = gr.Textbox(placeholder=\"이름이 무엇인가요?\")\n",
    "        out = gr.Textbox()\n",
    "    btn = gr.Button(\"제출\")\n",
    "\n",
    "    # 버튼에 이벤트 리스너를 추가\n",
    "    # 버튼 클릭시 update함수를 호출 -> inp에 입력된 문자열을 파라미터로 전송. 함수의 반환값은 out에 출력\n",
    "    btn.click(fn=update, inputs=inp, outputs=out)\n",
    "\n",
    "iface.launch()"
   ]
  },
  {
   "cell_type": "code",
   "execution_count": null,
   "metadata": {},
   "outputs": [],
   "source": [
    "iface.close()"
   ]
  },
  {
   "cell_type": "markdown",
   "metadata": {},
   "source": [
    "답변 내용 구체화 가능"
   ]
  },
  {
   "cell_type": "code",
   "execution_count": null,
   "metadata": {
    "colab": {
     "base_uri": "https://localhost:8080/",
     "height": 629
    },
    "executionInfo": {
     "elapsed": 1499,
     "status": "ok",
     "timestamp": 1719966267619,
     "user": {
      "displayName": "최성욱",
      "userId": "11953964052538069789"
     },
     "user_tz": -540
    },
    "id": "cjOMd_jZ5O-_",
    "outputId": "8d2dc377-b753-47ca-bd33-d1616aaaadb0"
   },
   "outputs": [],
   "source": [
    "# 챗봇에 채팅이 입력되면 이 함수를 호출\n",
    "# message는 유저의 채팅 메시지, history는 채팅 기록, additional_input_info는 additional_inputs안 블록의 정보\n",
    "def response(message, history, additional_input_info):\n",
    "    # additional_input_info의 텍스트를 챗봇의 대답 뒤에 추가\n",
    "    return \"챗봇을 미완성하였습니다 \" + additional_input_info\n",
    "\n",
    "iface = gr.ChatInterface(\n",
    "    fn=response,\n",
    "    textbox=gr.Textbox(placeholder=\"나만의 챗봇과 대화해봐요!!\", container=False, scale=1), # 버튼의 크기\n",
    "    title=\"나만의 챗봇\",\n",
    "    description=\"나만의 챗봇으로 Customizing하여 대화하기!\",\n",
    "    theme=\"soft\",\n",
    "    examples=[[\"안뇽\"], [\"요즘 덥다 ㅠㅠ\"], [\"점심메뉴 추천바람, 짜장 짬뽕 택 1\"]],\n",
    "    retry_btn=\"다시 실행하기 ↩\",\n",
    "    undo_btn=\"이전 대화 삭제 ❌\",\n",
    "    clear_btn=\"전체 대화 삭제 💫\",\n",
    "    additional_inputs=[\n",
    "        gr.Textbox(\"!!!\", label=\"e.g. 끝말잇기\")\n",
    "    ]    \n",
    ")\n",
    "iface.launch()"
   ]
  },
  {
   "cell_type": "code",
   "execution_count": null,
   "metadata": {},
   "outputs": [],
   "source": [
    "iface.close()"
   ]
  },
  {
   "cell_type": "markdown",
   "metadata": {},
   "source": [
    "언어 모델을 실제로 불러와서 답변 호출하기"
   ]
  },
  {
   "cell_type": "code",
   "execution_count": 13,
   "metadata": {
    "id": "qAphn2cu9F17"
   },
   "outputs": [],
   "source": [
    "import getpass\n",
    "import os\n",
    "os.environ['OPENAI_API_KEY'] = getpass.getpass('OpenAI API key를 입력하세요.')"
   ]
  },
  {
   "cell_type": "code",
   "execution_count": null,
   "metadata": {
    "colab": {
     "base_uri": "https://localhost:8080/",
     "height": 629
    },
    "executionInfo": {
     "elapsed": 1851,
     "status": "ok",
     "timestamp": 1719965356781,
     "user": {
      "displayName": "최성욱",
      "userId": "11953964052538069789"
     },
     "user_tz": -540
    },
    "id": "KvR1Q5bJ50Qv",
    "outputId": "d5fa41cb-e9b6-4eb2-f4a8-8bdacf844ab0"
   },
   "outputs": [],
   "source": [
    "from langchain_openai import ChatOpenAI\n",
    "from langchain_core.messages import AIMessage, HumanMessage, SystemMessage\n",
    "import gradio as gr\n",
    "\n",
    "llm = ChatOpenAI(temperature=1.0, model='gpt-4o-mini')\n",
    "\n",
    "def response(message, history, additional_input_info):\n",
    "        history_langchain_format = []\n",
    "        # additional_input_info로 받은 시스템 프롬프트를 랭체인에게 전달할 메시지에 포함시킨다.\n",
    "        history_langchain_format.append(SystemMessage(content= additional_input_info))\n",
    "        for human, ai in history:\n",
    "                history_langchain_format.append(HumanMessage(content=human))\n",
    "                history_langchain_format.append(AIMessage(content=ai))\n",
    "        history_langchain_format.append(HumanMessage(content=message))\n",
    "        gpt_response = llm.invoke(history_langchain_format)\n",
    "        return gpt_response.content\n",
    "\n",
    "system_prompt = \"\"\"\n",
    "당신은 8세 아동이고, 아이처럼 말하는 것에 능숙하다.\n",
    "사용자의 질문에 대해 아이처럼 대화를 하여라.\n",
    "\"\"\"\n",
    "\n",
    "iface = gr.ChatInterface(\n",
    "        fn=response,\n",
    "        textbox=gr.Textbox(placeholder=\"나만의 챗봇과 대화해봐요!!\", container=False, scale=5),\n",
    "        chatbot=gr.Chatbot(height=300), # 채팅창 높이 조절\n",
    "        title=\"나만의 챗봇\",\n",
    "        description=\"나만의 챗봇으로 Customizing하여 대화하기!\",\n",
    "        theme=\"soft\",\n",
    "        examples=[[\"안뇽\"], [\"요즘 덥다 ㅠㅠ\"], [\"점심메뉴 추천바람, 짜장 짬뽕 택 1\"]],\n",
    "        retry_btn=\"다시 작성하기 ↩\",\n",
    "        undo_btn=\"이전 대화 삭제 ❌\",\n",
    "        clear_btn=\"전체 대화 삭제 💫\",\n",
    "        additional_inputs=[\n",
    "            gr.Textbox(system_prompt, label=\"System Prompt를 입력해주세요\", placeholder=\"8세 아동이고 아이처럼 말하는 것에 능숙하다.\")\n",
    "        ]\n",
    ")\n",
    "iface.launch()"
   ]
  },
  {
   "cell_type": "code",
   "execution_count": null,
   "metadata": {},
   "outputs": [],
   "source": [
    "iface.close()"
   ]
  },
  {
   "cell_type": "markdown",
   "metadata": {},
   "source": [
    "## 프롬프트 엔지니어링\n",
    "이론 수업에서 배운 내용을 복습해 봅시다.\n",
    "### 1. 명료하게 지시하기\n",
    "- 대통령이 누구야? vs 2021년 멕시코의 대통령은 누구야?\n",
    "- 피보나치 수열 계산하는 코드 작성해줘 vs 피보나치 수열을 효율적으로 개선하는 파이썬 함수를 작성해줘. 그리고 각 코드가 무슨 기능을 하고 왜 쓰여야 하는지 주석을 달아줘."
   ]
  },
  {
   "cell_type": "code",
   "execution_count": null,
   "metadata": {
    "id": "fW7D3khJ6WJj"
   },
   "outputs": [],
   "source": [
    "from langchain_openai import ChatOpenAI\n",
    "from langchain_core.messages import AIMessage, HumanMessage, SystemMessage\n",
    "import gradio as gr\n",
    "\n",
    "llm = ChatOpenAI(temperature=1.0, model='gpt-4o-mini')\n",
    "\n",
    "def response(message, history, additional_input_info):\n",
    "    history_langchain_format = []\n",
    "    # additional_input_info로 받은 시스템 프롬프트를 랭체인에게 전달할 메시지에 포함시킨다.\n",
    "    history_langchain_format.append(SystemMessage(content=additional_input_info))\n",
    "    for human, ai in history:\n",
    "        history_langchain_format.append(HumanMessage(content=human))\n",
    "        history_langchain_format.append(AIMessage(content=ai))\n",
    "    history_langchain_format.append(HumanMessage(content=message))\n",
    "    gpt_response = llm.invoke(history_langchain_format)\n",
    "    return gpt_response.content\n",
    "\n",
    "system_prompt = \"\"\"인공지능 모델로서 유저의 질문이나 요청에 적절히 응답하세요.\n",
    "유저가 사용하는 언어에 맞춰서 한국어 또는 영어로 답변해야 합니다.\n",
    "또한 유저가 사용하는 말투와 톤에 맞춰서 적절히 응답하도록 하세요.\"\"\"\n",
    "\n",
    "iface = gr.ChatInterface(\n",
    "    fn=response,\n",
    "    textbox=gr.Textbox(placeholder=\"나만의 챗봇과 대화해봐요!!\", container=False, scale=5),\n",
    "    chatbot=gr.Chatbot(height=300),  # 채팅창 높이 조절\n",
    "    title=\"나만의 챗봇\",\n",
    "    description=\"나만의 챗봇으로 Customizing하여 대화하기!\",\n",
    "    theme=\"soft\",\n",
    "    examples=[[\"안녕, 반가워!\"], [\"요즘 날씨 덥다 ㅠㅠ,를 영어로 번역해줘\"], [\"점심메뉴 추천바람, 짜장 짬뽕 택 1\"]],\n",
    "    retry_btn=\"다시 작성하기 ↩\",\n",
    "    undo_btn=\"이전 대화 삭제 ❌\",\n",
    "    clear_btn=\"전체 대화 삭제 💫\",\n",
    "    additional_inputs=[\n",
    "        gr.Textbox(system_prompt, label=\"System Prompt를 입력해주세요\", placeholder=\"어린 아이가 충분히 이해할 수 있도록 친절하게 답변해주세요.\")\n",
    "    ]\n",
    ")\n",
    "iface.launch()"
   ]
  },
  {
   "cell_type": "code",
   "execution_count": null,
   "metadata": {},
   "outputs": [],
   "source": [
    "iface.close()"
   ]
  },
  {
   "cell_type": "markdown",
   "metadata": {},
   "source": [
    "### 2. 참고 가능한 텍스트를 제공하기\n",
    "- 아이폰 15 가격 얼마야?\n",
    "- 텍스트 파일 불러오기"
   ]
  },
  {
   "cell_type": "code",
   "execution_count": null,
   "metadata": {},
   "outputs": [],
   "source": [
    "from langchain_openai import ChatOpenAI\n",
    "from langchain_core.messages import AIMessage, HumanMessage, SystemMessage\n",
    "import gradio as gr\n",
    "\n",
    "llm = ChatOpenAI(temperature=1.0, model='gpt-4o-mini')\n",
    "\n",
    "def response(message, history, additional_input_info):\n",
    "        history_langchain_format = []\n",
    "        # additional_input_info로 받은 시스템 프롬프트를 랭체인에게 전달할 메시지에 포함시킨다.\n",
    "        history_langchain_format.append(SystemMessage(content= additional_input_info))\n",
    "        for human, ai in history:\n",
    "                history_langchain_format.append(HumanMessage(content=human))\n",
    "                history_langchain_format.append(AIMessage(content=ai))\n",
    "        history_langchain_format.append(HumanMessage(content=message))\n",
    "        gpt_response = llm.invoke(history_langchain_format)\n",
    "        return gpt_response.content\n",
    "\n",
    "system_prompt = \"\"\"인공지능 모델로서 유저의 질문이나 요청에 적절히 응답하세요.\n",
    "유저가 사용하는 언어에 맞춰서 한국어 또는 영어로 답변해야 합니다.\n",
    "또한 유저가 사용하는 말투와 톤에 맞춰서 적절히 응답하도록 하세요.\n",
    "당신의 지식으로 답변하기 어려운 질문에 대해서는 모른다고 답변해야 합니다.\"\"\"\n",
    "\n",
    "iface = gr.ChatInterface(\n",
    "        fn=response,\n",
    "        textbox=gr.Textbox(placeholder=\"나만의 챗봇과 대화해봐요!!\", container=False, scale=5),\n",
    "        chatbot=gr.Chatbot(height=300), # 채팅창 높이 조절\n",
    "        title=\"나만의 챗봇\",\n",
    "        description=\"나만의 챗봇으로 Customizing하여 대화하기!\",\n",
    "        theme=\"soft\",\n",
    "        examples=[[\"안녕, 반가워!\"], [\"요즘 날씨 덥다 ㅠㅠ,를 영어로 번역해줘\"], [\"점심메뉴 추천바람, 짜장 짬뽕 택 1\"]],\n",
    "        retry_btn=\"다시 작성하기 ↩\",\n",
    "        undo_btn=\"이전 대화 삭제 ❌\",\n",
    "        clear_btn=\"전체 대화 삭제 💫\",\n",
    "        additional_inputs=[\n",
    "            gr.Textbox(system_prompt, label=\"System Prompt를 입력해주세요\", placeholder=\"어린 아이가 충분히 이해할 수 있도록 친절하게 답변해주세요.\")\n",
    "        ]\n",
    ")\n",
    "iface.launch(share=True)"
   ]
  },
  {
   "cell_type": "code",
   "execution_count": null,
   "metadata": {},
   "outputs": [],
   "source": [
    "# 텍스트 파일 불러오기\n",
    "with open('iphone15_info.txt', 'r') as file:\n",
    "    text = file.read()\n",
    "print(text)"
   ]
  },
  {
   "cell_type": "code",
   "execution_count": null,
   "metadata": {},
   "outputs": [],
   "source": [
    "iface.close()"
   ]
  },
  {
   "cell_type": "markdown",
   "metadata": {},
   "source": [
    "### 3. 복잡한 작업은 여러 개의 작은 작업으로 쪼개기"
   ]
  },
  {
   "cell_type": "markdown",
   "metadata": {},
   "source": [
    "#다른걸로 해야할듯"
   ]
  },
  {
   "cell_type": "markdown",
   "metadata": {},
   "source": [
    "- 공 튀기기 게임을 만드는 코드를 작성해줘.\n",
    "- 공 튀기기 게임을 만드는 코드를 작성해줘. 아래 내용을 따라 코드를 작성하면 돼.\n",
    "\n",
    " \t1.\t기본 구조 설정\n",
    "“Python으로 공 튀기기 게임을 만들기 위해 Pygame을 설치하고 기본 게임 창을 만드는 코드를 작성해줘.”\n",
    "\t2.\t공 객체 만들기\n",
    "“Pygame을 사용하여 화면에 표시될 공 객체를 정의하는 코드를 작성해줘. 공은 원형으로 그리고, 초기 위치와 속도를 설정해줘.”\n",
    "\t3.\t공의 움직임 구현\n",
    "“Pygame을 사용하여 공이 화면에서 움직이도록 하는 코드를 작성해줘. 공이 벽에 부딪히면 튕기도록 해줘.”\n",
    "\t4.\t게임 루프 설정\n",
    "“게임이 지속적으로 실행될 수 있도록 게임 루프를 설정하고, 공의 위치를 업데이트하며 화면을 다시 그리는 코드를 작성해줘.”\n",
    "\t5.\t사용자 입력 처리\n",
    "“사용자가 공의 위치를 조작할 수 있도록 방향키 입력에 영향을 받을 수 있도록 해줘.”\n",
    "\t6.\t완성된 게임 실행\n",
    "“모든 코드를 합쳐서 완성된 공 튀기기 게임을 실행할 수 있도록 해줘.”\n"
   ]
  },
  {
   "cell_type": "code",
   "execution_count": null,
   "metadata": {},
   "outputs": [],
   "source": [
    "from langchain_openai import ChatOpenAI\n",
    "from langchain_core.messages import AIMessage, HumanMessage, SystemMessage\n",
    "import gradio as gr\n",
    "\n",
    "llm = ChatOpenAI(temperature=1.0, model='gpt-4o-mini')\n",
    "\n",
    "def response(message, history, additional_input_info):\n",
    "        history_langchain_format = []\n",
    "        # additional_input_info로 받은 시스템 프롬프트를 랭체인에게 전달할 메시지에 포함시킨다.\n",
    "        history_langchain_format.append(SystemMessage(content= additional_input_info))\n",
    "        for human, ai in history:\n",
    "                history_langchain_format.append(HumanMessage(content=human))\n",
    "                history_langchain_format.append(AIMessage(content=ai))\n",
    "        history_langchain_format.append(HumanMessage(content=message))\n",
    "        gpt_response = llm.invoke(history_langchain_format)\n",
    "        return gpt_response.content\n",
    "\n",
    "system_prompt = \"\"\"인공지능 모델로서 유저의 질문이나 요청에 적절히 응답하세요.\n",
    "유저가 사용하는 언어에 맞춰서 한국어 또는 영어로 답변해야 합니다.\n",
    "또한 유저가 사용하는 말투와 톤에 맞춰서 적절히 응답하도록 하세요.\n",
    "유저의 요청을 최대한 잘 들어줄 수 있도록 합니다.\"\"\"\n",
    "\n",
    "iface = gr.ChatInterface(\n",
    "        fn=response,\n",
    "        textbox=gr.Textbox(placeholder=\"나만의 챗봇과 대화해봐요!!\", container=False, scale=5),\n",
    "        chatbot=gr.Chatbot(height=300), # 채팅창 높이 조절\n",
    "        title=\"나만의 챗봇\",\n",
    "        description=\"나만의 챗봇으로 Customizing하여 대화하기!\",\n",
    "        theme=\"soft\",\n",
    "        examples=[[\"안녕, 반가워!\"], [\"요즘 날씨 덥다 ㅠㅠ,를 영어로 번역해줘\"], [\"점심메뉴 추천바람, 짜장 짬뽕 택 1\"]],\n",
    "        retry_btn=\"다시 작성하기 ↩\",\n",
    "        undo_btn=\"이전 대화 삭제 ❌\",\n",
    "        clear_btn=\"전체 대화 삭제 💫\",\n",
    "        additional_inputs=[\n",
    "            gr.Textbox(system_prompt, label=\"System Prompt를 입력해주세요\", placeholder=\"어린 아이가 충분히 이해할 수 있도록 친절하게 답변해주세요.\")\n",
    "        ]\n",
    ")\n",
    "iface.launch()"
   ]
  },
  {
   "cell_type": "code",
   "execution_count": null,
   "metadata": {},
   "outputs": [],
   "source": [
    "iface.close()"
   ]
  },
  {
   "cell_type": "markdown",
   "metadata": {},
   "source": [
    "간단한 명령으로 생성된 결과\n"
   ]
  },
  {
   "cell_type": "code",
   "execution_count": null,
   "metadata": {},
   "outputs": [],
   "source": [
    "import pygame\n",
    "import sys\n",
    "\n",
    "# Pygame 초기화\n",
    "pygame.init()\n",
    "\n",
    "# 게임 창 설정\n",
    "WIDTH, HEIGHT = 800, 600\n",
    "screen = pygame.display.set_mode((WIDTH, HEIGHT))\n",
    "pygame.display.set_caption('공 튀기기 게임')\n",
    "\n",
    "# 색상 정의\n",
    "BLACK = (0, 0, 0)\n",
    "WHITE = (255, 255, 255)\n",
    "\n",
    "class Ball:\n",
    "    def __init__(self, x, y, radius, color):\n",
    "        self.x = x\n",
    "        self.y = y\n",
    "        self.radius = radius\n",
    "        self.color = color\n",
    "        self.speed_x = 5  # x 방향 속도\n",
    "        self.speed_y = 5  # y 방향 속도\n",
    "\n",
    "    def draw(self, surface):\n",
    "        pygame.draw.circle(surface, self.color, (self.x, self.y), self.radius)\n",
    "\n",
    "    def move(self):\n",
    "        self.x += self.speed_x\n",
    "        self.y += self.speed_y\n",
    "\n",
    "        # 화면 경계 검사\n",
    "        if self.x - self.radius < 0 or self.x + self.radius > WIDTH:\n",
    "            self.speed_x = -self.speed_x  # X 방향으로 튕김\n",
    "        if self.y - self.radius < 0 or self.y + self.radius > HEIGHT:\n",
    "            self.speed_y = -self.speed_y  # Y 방향으로 튕김\n",
    "\n",
    "# 공 객체 생성\n",
    "ball = Ball(WIDTH // 2, HEIGHT // 2, 20, WHITE)\n",
    "\n",
    "running = True\n",
    "while running:\n",
    "    for event in pygame.event.get():\n",
    "        if event.type == pygame.QUIT:\n",
    "            running = False\n",
    "\n",
    "    keys = pygame.key.get_pressed()\n",
    "    if keys[pygame.K_LEFT]:\n",
    "        ball.speed_x = -5\n",
    "    elif keys[pygame.K_RIGHT]:\n",
    "        ball.speed_x = 5\n",
    "    else:\n",
    "        ball.speed_x = 0  # 방향키를 누르지 않으면 정지\n",
    "    if keys[pygame.K_UP]:\n",
    "        ball.speed_y = -5\n",
    "    elif keys[pygame.K_DOWN]:\n",
    "        ball.speed_y = 5\n",
    "    else:\n",
    "        ball.speed_y = 0  # 방향키를 누르지 않으면 정지\n",
    "\n",
    "    # 공의 이동 및 그리기\n",
    "    ball.move()\n",
    "\n",
    "    # 화면 채우기\n",
    "    screen.fill(BLACK)\n",
    "    \n",
    "    # 공 그리기\n",
    "    ball.draw(screen)\n",
    "\n",
    "    # 화면 업데이트\n",
    "    pygame.display.flip()\n",
    "\n",
    "    # FPS 설정\n",
    "    pygame.time.Clock().tick(60)\n",
    "\n",
    "# Pygame 종료\n",
    "pygame.quit()\n",
    "sys.exit()"
   ]
  },
  {
   "cell_type": "markdown",
   "metadata": {},
   "source": [
    "복잡한 명령으로 생성된 결과"
   ]
  },
  {
   "cell_type": "code",
   "execution_count": null,
   "metadata": {},
   "outputs": [],
   "source": [
    "import pygame\n",
    "pygame.init()\n",
    "\n",
    "# 게임 화면 크기 설정\n",
    "screen_width = 800\n",
    "screen_height = 600\n",
    "screen = pygame.display.set_mode((screen_width, screen_height))\n",
    "pygame.display.set_caption(\"공 튀기기 게임\")\n",
    "\n",
    "# 공 객체 설정\n",
    "class Ball:\n",
    "    def __init__(self, x, y, radius, color, speed_x, speed_y):\n",
    "        self.x = x\n",
    "        self.y = y\n",
    "        self.radius = radius\n",
    "        self.color = color\n",
    "        self.speed_x = speed_x\n",
    "        self.speed_y = speed_y\n",
    "\n",
    "    def draw(self):\n",
    "        pygame.draw.circle(screen, self.color, (self.x, self.y), self.radius)\n",
    "\n",
    "ball = Ball(screen_width // 2, screen_height // 2, 20, (255, 0, 0), 5, 5)\n",
    "\n",
    "# 공의 움직임 구현\n",
    "def move_ball():\n",
    "    ball.x += ball.speed_x\n",
    "    ball.y += ball.speed_y\n",
    "\n",
    "    if ball.x <= ball.radius or ball.x >= screen_width - ball.radius:\n",
    "        ball.speed_x *= -1\n",
    "    if ball.y <= ball.radius or ball.y >= screen_height - ball.radius:\n",
    "        ball.speed_y *= -1\n",
    "\n",
    "# 게임 루프\n",
    "running = True\n",
    "while running:\n",
    "    for event in pygame.event.get():\n",
    "        if event.type == pygame.QUIT:\n",
    "            running = False\n",
    "        elif event.type == pygame.KEYDOWN:\n",
    "            if event.key == pygame.K_ESCAPE:\n",
    "                running = False\n",
    "\n",
    "    screen.fill((255, 255, 255))\n",
    "    \n",
    "    move_ball()\n",
    "    ball.draw()\n",
    "\n",
    "    keys = pygame.key.get_pressed()\n",
    "    if keys[pygame.K_LEFT]:\n",
    "        ball.speed_x = -5\n",
    "    elif keys[pygame.K_RIGHT]:\n",
    "        ball.speed_x = 5\n",
    "    if keys[pygame.K_UP]:\n",
    "        ball.speed_y = -5\n",
    "    elif keys[pygame.K_DOWN]:\n",
    "        ball.speed_y = 5\n",
    "\n",
    "    pygame.display.update()\n",
    "\n",
    "pygame.quit()"
   ]
  },
  {
   "cell_type": "markdown",
   "metadata": {},
   "source": [
    "### 4. 페르소나 설정\n",
    "- 당신은 인공지능 모델로서 어린 초등학생의 질문을 받게 됩니다. 초등학생의 질문에 대해 최대한 자세하고 풍부한 설명이 필요합니다. 또한 친절하고 친근한 말투를 유지할 수 있도록 하세요. 가능한 경우 이모지를 추가하여 친근함을 더하도록 합니다.\n",
    "- 당신은 인공지능 전문가로서 대학생의 질문을 받게 됩니다. 데이터 사이언스와 관련한 질문에 대해 전문적인 내용을 바탕으로 답변합니다. 이때 전문적인 느낌을 줄 수 있는 말투를 유지하도록 하세요."
   ]
  },
  {
   "cell_type": "code",
   "execution_count": null,
   "metadata": {},
   "outputs": [],
   "source": [
    "from langchain_openai import ChatOpenAI\n",
    "from langchain_core.messages import AIMessage, HumanMessage, SystemMessage\n",
    "import gradio as gr\n",
    "\n",
    "llm = ChatOpenAI(temperature=1.0, model='gpt-4o-mini')\n",
    "\n",
    "def response(message, history, additional_input_info):\n",
    "        history_langchain_format = []\n",
    "        # additional_input_info로 받은 시스템 프롬프트를 랭체인에게 전달할 메시지에 포함시킨다.\n",
    "        history_langchain_format.append(SystemMessage(content= additional_input_info))\n",
    "        for human, ai in history:\n",
    "                history_langchain_format.append(HumanMessage(content=human))\n",
    "                history_langchain_format.append(AIMessage(content=ai))\n",
    "        history_langchain_format.append(HumanMessage(content=message))\n",
    "        gpt_response = llm.invoke(history_langchain_format)\n",
    "        return gpt_response.content\n",
    "\n",
    "system_prompt = \"\"\"당신은 인공지능 모델로서 어린 초등학생의 질문을 받게 됩니다. 초등학생의 질문에 대해 최대한 자세하고 풍부한 설명이 필요합니다. 또한 친절하고 친근한 말투를 유지할 수 있도록 하세요. 가능한 경우 이모지를 추가하여 친근함을 더하도록 합니다.\"\"\"\n",
    "\n",
    "iface = gr.ChatInterface(\n",
    "        fn=response,\n",
    "        textbox=gr.Textbox(placeholder=\"나만의 챗봇과 대화해봐요!!\", container=False, scale=5),\n",
    "        chatbot=gr.Chatbot(height=300), # 채팅창 높이 조절\n",
    "        title=\"나만의 챗봇\",\n",
    "        description=\"나만의 챗봇으로 Customizing하여 대화하기!\",\n",
    "        theme=\"soft\",\n",
    "        examples=[[\"안녕, 반가워!\"], [\"요즘 날씨 덥다 ㅠㅠ,를 영어로 번역해줘\"], [\"피보나치 수열이 뭔지 알아? 알면 파이썬으로 코딩해줘\"]],\n",
    "        retry_btn=\"다시 작성하기 ↩\",\n",
    "        undo_btn=\"이전 대화 삭제 ❌\",\n",
    "        clear_btn=\"전체 대화 삭제 💫\",\n",
    "        additional_inputs=[\n",
    "            gr.Textbox(system_prompt, label=\"System Prompt를 입력해주세요\", placeholder=\"어린 아이가 충분히 이해할 수 있도록 친절하게 답변해주세요.\")\n",
    "        ]\n",
    ")\n",
    "iface.launch()"
   ]
  },
  {
   "cell_type": "code",
   "execution_count": null,
   "metadata": {},
   "outputs": [],
   "source": [
    "iface.close()"
   ]
  },
  {
   "cell_type": "code",
   "execution_count": null,
   "metadata": {},
   "outputs": [],
   "source": [
    "from langchain_openai import ChatOpenAI\n",
    "from langchain_core.messages import AIMessage, HumanMessage, SystemMessage\n",
    "import gradio as gr\n",
    "\n",
    "llm = ChatOpenAI(temperature=1.0, model='gpt-4o-mini')\n",
    "\n",
    "def response(message, history, additional_input_info):\n",
    "        history_langchain_format = []\n",
    "        # additional_input_info로 받은 시스템 프롬프트를 랭체인에게 전달할 메시지에 포함시킨다.\n",
    "        history_langchain_format.append(SystemMessage(content= additional_input_info))\n",
    "        for human, ai in history:\n",
    "                history_langchain_format.append(HumanMessage(content=human))\n",
    "                history_langchain_format.append(AIMessage(content=ai))\n",
    "        history_langchain_format.append(HumanMessage(content=message))\n",
    "        gpt_response = llm.invoke(history_langchain_format)\n",
    "        return gpt_response.content\n",
    "\n",
    "system_prompt = \"\"\"당신은 인공지능 전문가로서 대학생의 질문을 받게 됩니다. 데이터 사이언스와 관련한 질문에 대해 전문적인 내용을 바탕으로 답변합니다. 이때 전문적인 느낌을 줄 수 있는 말투를 유지하도록 하세요.\"\"\"\n",
    "\n",
    "iface = gr.ChatInterface(\n",
    "        fn=response,\n",
    "        textbox=gr.Textbox(placeholder=\"나만의 챗봇과 대화해봐요!!\", container=False, scale=5),\n",
    "        chatbot=gr.Chatbot(height=300), # 채팅창 높이 조절\n",
    "        title=\"나만의 챗봇\",\n",
    "        description=\"나만의 챗봇으로 Customizing하여 대화하기!\",\n",
    "        theme=\"soft\",\n",
    "        examples=[[\"안녕, 반가워!\"], [\"요즘 날씨 덥다 ㅠㅠ,를 영어로 번역해줘\"], [\"피보나치 수열이 뭔지 알아? 알면 파이썬으로 코딩해줘\"]],\n",
    "        retry_btn=\"다시 작성하기 ↩\",\n",
    "        undo_btn=\"이전 대화 삭제 ❌\",\n",
    "        clear_btn=\"전체 대화 삭제 💫\",\n",
    "        additional_inputs=[\n",
    "            gr.Textbox(system_prompt, label=\"System Prompt를 입력해주세요\", placeholder=\"어린 아이가 충분히 이해할 수 있도록 친절하게 답변해주세요.\")\n",
    "        ]\n",
    ")\n",
    "iface.launch()"
   ]
  },
  {
   "cell_type": "code",
   "execution_count": null,
   "metadata": {},
   "outputs": [],
   "source": [
    "iface.close()"
   ]
  },
  {
   "cell_type": "markdown",
   "metadata": {},
   "source": [
    "## 나만의 자소서 챗봇 만들기!!\n",
    "마지막 실습 과제는 자소서를 작성해주는 챗봇을 직접 만들어보는 것입니다.\n",
    "\n",
    "본인만의 자소서를 챗봇으로 생성하여 결과물을 제출해 보세요!\n",
    "\n",
    "만약 답변이 마음에 들지 않는다면 이를 어떻게 수정해달라고 요청할지 고민해보도록 합니다 🤔\n",
    "\n",
    "단, 자소서에는 아래 항목을 반드시 포함해야 합니다.\n",
    "- 가장 인상 깊게 수강했던 전공 과목\n",
    "- 친구/동료들과 겪었던 갈등을 해결했던 경험\n",
    "- 본인의 건강한 취미 생활"
   ]
  },
  {
   "cell_type": "code",
   "execution_count": null,
   "metadata": {},
   "outputs": [],
   "source": [
    "from langchain_openai import ChatOpenAI\n",
    "from langchain_core.messages import AIMessage, HumanMessage, SystemMessage\n",
    "import gradio as gr\n",
    "\n",
    "llm = ChatOpenAI(temperature=1.0, model='gpt-4o-mini')\n",
    "\n",
    "def response(message, history, additional_input_info):\n",
    "        history_langchain_format = []\n",
    "        # additional_input_info로 받은 시스템 프롬프트를 랭체인에게 전달할 메시지에 포함시킨다.\n",
    "        history_langchain_format.append(SystemMessage(content= additional_input_info))\n",
    "        for human, ai in history:\n",
    "                history_langchain_format.append(HumanMessage(content=human))\n",
    "                history_langchain_format.append(AIMessage(content=ai))\n",
    "        history_langchain_format.append(HumanMessage(content=message))\n",
    "        gpt_response = llm.invoke(history_langchain_format)\n",
    "        return gpt_response.content\n",
    "\n",
    "system_prompt = \"\"\"\"\"\" ## 본인만의 프롬프트를 작성해 보세요\n",
    "\n",
    "iface = gr.ChatInterface(\n",
    "        fn=response,\n",
    "        textbox=gr.Textbox(placeholder=\"나만의 챗봇과 대화해봐요!!\", container=False, scale=5),\n",
    "        chatbot=gr.Chatbot(height=300), # 채팅창 높이 조절\n",
    "        title=\"나만의 챗봇\",\n",
    "        description=\"나만의 챗봇으로 Customizing하여 대화하기!\",\n",
    "        theme=\"soft\",\n",
    "        examples=[[\"안녕, 반가워!\"], [\"요즘 날씨 덥다 ㅠㅠ,를 영어로 번역해줘\"], [\"피보나치 수열이 뭔지 알아? 알면 파이썬으로 코딩해줘\"]],\n",
    "        retry_btn=\"다시 작성하기 ↩\",\n",
    "        undo_btn=\"이전 대화 삭제 ❌\",\n",
    "        clear_btn=\"전체 대화 삭제 💫\",\n",
    "        additional_inputs=[\n",
    "            gr.Textbox(system_prompt, label=\"System Prompt를 입력해주세요\", placeholder=\"질문에 친절하게 답변하는 챗봇\")\n",
    "        ]\n",
    ")\n",
    "iface.launch()"
   ]
  },
  {
   "cell_type": "code",
   "execution_count": null,
   "metadata": {},
   "outputs": [],
   "source": [
    "iface.close()"
   ]
  }
 ],
 "metadata": {
  "colab": {
   "authorship_tag": "ABX9TyPtEpgpaLl7+qNpIFIr6npO",
   "provenance": []
  },
  "kernelspec": {
   "display_name": "Python 3",
   "name": "python3"
  },
  "language_info": {
   "codemirror_mode": {
    "name": "ipython",
    "version": 3
   },
   "file_extension": ".py",
   "mimetype": "text/x-python",
   "name": "python",
   "nbconvert_exporter": "python",
   "pygments_lexer": "ipython3",
   "version": "3.9.6"
  }
 },
 "nbformat": 4,
 "nbformat_minor": 0
}
