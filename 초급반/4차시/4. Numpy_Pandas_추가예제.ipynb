{
 "cells": [
  {
   "cell_type": "markdown",
   "metadata": {},
   "source": [
    "### Numpy 추가 예제"
   ]
  },
  {
   "cell_type": "code",
   "execution_count": 66,
   "metadata": {},
   "outputs": [],
   "source": [
    "import numpy as np"
   ]
  },
  {
   "cell_type": "code",
   "execution_count": 39,
   "metadata": {},
   "outputs": [
    {
     "name": "stdout",
     "output_type": "stream",
     "text": [
      "arr:\n",
      " [1 2 3 4 5]\n"
     ]
    }
   ],
   "source": [
    "# 1. array: 리스트를 배열로 변환\n",
    "arr = np.array([1, 2, 3, 4, 5])\n",
    "print('arr:\\n', arr)"
   ]
  },
  {
   "cell_type": "code",
   "execution_count": 40,
   "metadata": {},
   "outputs": [
    {
     "name": "stdout",
     "output_type": "stream",
     "text": [
      "rng:\n",
      " [0 2 4 6 8]\n"
     ]
    }
   ],
   "source": [
    "# 2. arange: 연속된 수열 생성\n",
    "rng = np.arange(0, 10, 2)\n",
    "print('rng:\\n', rng)"
   ]
  },
  {
   "cell_type": "code",
   "execution_count": 41,
   "metadata": {},
   "outputs": [
    {
     "name": "stdout",
     "output_type": "stream",
     "text": [
      "lin:\n",
      " [0.         0.33333333 0.66666667 1.        ]\n"
     ]
    }
   ],
   "source": [
    "# 3. linspace: 등간격 숫자 생성\n",
    "lin = np.linspace(0, 1, 4)\n",
    "print('lin:\\n', lin)"
   ]
  },
  {
   "cell_type": "code",
   "execution_count": 45,
   "metadata": {},
   "outputs": [
    {
     "name": "stdout",
     "output_type": "stream",
     "text": [
      "zeros:\n",
      " [[0. 0. 0.]\n",
      " [0. 0. 0.]]\n"
     ]
    }
   ],
   "source": [
    "# 4. zeros: 0으로 초기화된 배열\n",
    "z = np.zeros((2, 3))\n",
    "print('zeros:\\n', z)"
   ]
  },
  {
   "cell_type": "code",
   "execution_count": 44,
   "metadata": {},
   "outputs": [
    {
     "name": "stdout",
     "output_type": "stream",
     "text": [
      "ones:\n",
      " [[1. 1.]\n",
      " [1. 1.]\n",
      " [1. 1.]]\n"
     ]
    }
   ],
   "source": [
    "# 5. ones: 1로 초기화된 배열\n",
    "o = np.ones((3, 2))\n",
    "print('ones:\\n', o)"
   ]
  },
  {
   "cell_type": "code",
   "execution_count": 43,
   "metadata": {},
   "outputs": [
    {
     "name": "stdout",
     "output_type": "stream",
     "text": [
      "eye:\n",
      " [[1. 0. 0. 0.]\n",
      " [0. 1. 0. 0.]\n",
      " [0. 0. 1. 0.]\n",
      " [0. 0. 0. 1.]]\n"
     ]
    }
   ],
   "source": [
    "# 6. eye: 단위행렬 생성\n",
    "I = np.eye(4)\n",
    "print('eye:\\n', I)"
   ]
  },
  {
   "cell_type": "code",
   "execution_count": 31,
   "metadata": {},
   "outputs": [],
   "source": [
    "# 7. random.seed: 난수 시드 고정\n",
    "np.random.seed(42)"
   ]
  },
  {
   "cell_type": "code",
   "execution_count": 42,
   "metadata": {},
   "outputs": [
    {
     "name": "stdout",
     "output_type": "stream",
     "text": [
      "rand:\n",
      " [[0.19967378 0.51423444]\n",
      " [0.59241457 0.04645041]]\n"
     ]
    }
   ],
   "source": [
    "# 8. random.rand: 균등분포 난수\n",
    "r1 = np.random.rand(2, 2)\n",
    "print('rand:\\n', r1)"
   ]
  },
  {
   "cell_type": "code",
   "execution_count": 38,
   "metadata": {},
   "outputs": [
    {
     "name": "stdout",
     "output_type": "stream",
     "text": [
      "randn:\n",
      " [[-1.91328024 -1.72491783 -0.56228753]\n",
      " [-1.01283112  0.31424733 -0.90802408]\n",
      " [-1.4123037   1.46564877 -0.2257763 ]]\n"
     ]
    }
   ],
   "source": [
    "# 9. random.randn: 정규분포 난수\n",
    "r2 = np.random.randn(3, 3)\n",
    "print('randn:\\n', r2)"
   ]
  },
  {
   "cell_type": "code",
   "execution_count": 37,
   "metadata": {},
   "outputs": [
    {
     "name": "stdout",
     "output_type": "stream",
     "text": [
      "reshaped:\n",
      " [[ 1  2]\n",
      " [ 3  4]\n",
      " [ 5  7]\n",
      " [ 9 11]\n",
      " [13 15]]\n"
     ]
    }
   ],
   "source": [
    "# 10. reshape: 형태 변경\n",
    "arr = np.array([[1, 2, 3, 4, 5], [7,9,11,13,15]])\n",
    "reshaped = arr.reshape((5, 2))\n",
    "print('reshaped:\\n', reshaped)"
   ]
  },
  {
   "cell_type": "code",
   "execution_count": 46,
   "metadata": {},
   "outputs": [
    {
     "name": "stdout",
     "output_type": "stream",
     "text": [
      "flat:\n",
      " [-1.91328024 -1.72491783 -0.56228753 -1.01283112  0.31424733 -0.90802408\n",
      " -1.4123037   1.46564877 -0.2257763 ]\n"
     ]
    }
   ],
   "source": [
    "# 11. flatten: 1차원으로 펼치기\n",
    "flat = r2.flatten()\n",
    "print('flat:\\n', flat)"
   ]
  },
  {
   "cell_type": "code",
   "execution_count": 54,
   "metadata": {},
   "outputs": [
    {
     "name": "stdout",
     "output_type": "stream",
     "text": [
      "concatenate:\n",
      " [1 2 3 4]\n"
     ]
    }
   ],
   "source": [
    "# 12. concatenate: 배열 이어붙이기\n",
    "a = np.array([1, 2]); b = np.array([3, 4])\n",
    "cat = np.concatenate([a, b])\n",
    "print('concatenate:\\n', cat)"
   ]
  },
  {
   "cell_type": "code",
   "execution_count": 56,
   "metadata": {},
   "outputs": [
    {
     "name": "stdout",
     "output_type": "stream",
     "text": [
      "vstack:\n",
      " [[1 2]\n",
      " [3 4]]\n"
     ]
    }
   ],
   "source": [
    "# 13. vstack: 수직으로 쌓기\n",
    "v = np.vstack([a, b])\n",
    "print('vstack:\\n', v)"
   ]
  },
  {
   "cell_type": "code",
   "execution_count": 57,
   "metadata": {},
   "outputs": [
    {
     "name": "stdout",
     "output_type": "stream",
     "text": [
      "hstack:\n",
      " [[1 3]\n",
      " [2 4]]\n"
     ]
    }
   ],
   "source": [
    "# 14. hstack: 수평으로 쌓기\n",
    "h = np.hstack([a.reshape(2,1), b.reshape(2,1)])\n",
    "print('hstack:\\n', h)"
   ]
  },
  {
   "cell_type": "code",
   "execution_count": 58,
   "metadata": {},
   "outputs": [
    {
     "name": "stdout",
     "output_type": "stream",
     "text": [
      "unique:\n",
      " [1 2 3]\n"
     ]
    }
   ],
   "source": [
    "# 15. unique: 고유값 추출\n",
    "uniq = np.unique([1,2,2,3,3,3])\n",
    "print('unique:\\n', uniq)"
   ]
  },
  {
   "cell_type": "code",
   "execution_count": 59,
   "metadata": {},
   "outputs": [
    {
     "name": "stdout",
     "output_type": "stream",
     "text": [
      "argmax:\n",
      " 1\n"
     ]
    }
   ],
   "source": [
    "# 16. argmax: 최대값 인덱스\n",
    "idx_max = np.argmax([1,5,2,4])\n",
    "print('argmax:\\n', idx_max)"
   ]
  },
  {
   "cell_type": "code",
   "execution_count": 60,
   "metadata": {},
   "outputs": [
    {
     "name": "stdout",
     "output_type": "stream",
     "text": [
      "where (even indices):\n",
      " (array([1, 3]),)\n"
     ]
    }
   ],
   "source": [
    "# 17. where: 조건 기반 인덱싱\n",
    "w = np.where(arr % 2 == 0)\n",
    "print('where (even indices):\\n', w)"
   ]
  },
  {
   "cell_type": "code",
   "execution_count": 61,
   "metadata": {},
   "outputs": [
    {
     "name": "stdout",
     "output_type": "stream",
     "text": [
      "clip:\n",
      " [1 2 4 6 7]\n"
     ]
    }
   ],
   "source": [
    "# 18. clip: 값 범위 제한\n",
    "cl = np.clip(rng, 1, 7)\n",
    "print('clip:\\n', cl)"
   ]
  },
  {
   "cell_type": "code",
   "execution_count": 63,
   "metadata": {},
   "outputs": [
    {
     "name": "stdout",
     "output_type": "stream",
     "text": [
      "broadcast_to:\n",
      " [[1 2 3]\n",
      " [1 2 3]\n",
      " [1 2 3]]\n"
     ]
    }
   ],
   "source": [
    "# 19. broadcast_to: 브로드캐스팅\n",
    "bcd = np.broadcast_to([1,2,3], (3,3))\n",
    "print('broadcast_to:\\n', bcd)"
   ]
  },
  {
   "cell_type": "code",
   "execution_count": 65,
   "metadata": {},
   "outputs": [
    {
     "name": "stdout",
     "output_type": "stream",
     "text": [
      "transpose:\n",
      " [[-1.91328024 -1.01283112 -1.4123037 ]\n",
      " [-1.72491783  0.31424733  1.46564877]\n",
      " [-0.56228753 -0.90802408 -0.2257763 ]]\n"
     ]
    }
   ],
   "source": [
    "# 20. transpose: 축 순서 변경\n",
    "t = np.transpose(r2, (1,0))\n",
    "print('transpose:\\n', t)"
   ]
  },
  {
   "cell_type": "markdown",
   "metadata": {},
   "source": [
    "### Pandas 추가 예제"
   ]
  },
  {
   "cell_type": "code",
   "execution_count": 67,
   "metadata": {},
   "outputs": [
    {
     "name": "stdout",
     "output_type": "stream",
     "text": [
      "DataFrame:     이름    나이 성별    점수\n",
      "0  홍길동  25.0  M  88.0\n",
      "1  이영희  30.0  F  92.0\n",
      "2  김철수   NaN  M  79.0\n",
      "3  박민수  22.0  M   NaN\n"
     ]
    }
   ],
   "source": [
    "import pandas as pd\n",
    "\n",
    "# 샘플 데이터프레임 생성\n",
    "data = {\n",
    "    '이름': ['홍길동', '이영희', '김철수', '박민수'],\n",
    "    '나이': [25, 30, None, 22],\n",
    "    '성별': ['M', 'F', 'M', 'M'],\n",
    "    '점수': [88, 92, 79, None]\n",
    "}\n",
    "df = pd.DataFrame(data)\n",
    "print('DataFrame:', df)"
   ]
  },
  {
   "cell_type": "code",
   "execution_count": 69,
   "metadata": {},
   "outputs": [
    {
     "name": "stdout",
     "output_type": "stream",
     "text": [
      "Series:\n",
      " 0    1\n",
      "1    2\n",
      "2    3\n",
      "dtype: int64\n"
     ]
    }
   ],
   "source": [
    "# 1. Series: 1차원 배열 생성\n",
    "s = pd.Series([1, 2, 3])\n",
    "print('Series:\\n', s)"
   ]
  },
  {
   "cell_type": "code",
   "execution_count": null,
   "metadata": {},
   "outputs": [],
   "source": [
    "# 2. read_csv: CSV 읽기 (예시 주석 처리)\n",
    "df_csv = pd.read_csv('파일.csv')\n",
    "df_excel = pd.read_excel('파일.xlsx', sheet_name='1번시트')"
   ]
  },
  {
   "cell_type": "code",
   "execution_count": 70,
   "metadata": {},
   "outputs": [
    {
     "name": "stdout",
     "output_type": "stream",
     "text": [
      "\n",
      "head():\n",
      "     이름    나이 성별    점수\n",
      "0  홍길동  25.0  M  88.0\n",
      "1  이영희  30.0  F  92.0\n",
      "2  김철수   NaN  M  79.0\n",
      "3  박민수  22.0  M   NaN\n"
     ]
    }
   ],
   "source": [
    "# 3. head: 상위 5개\n",
    "print('\\nhead():\\n', df.head())"
   ]
  },
  {
   "cell_type": "code",
   "execution_count": 71,
   "metadata": {},
   "outputs": [
    {
     "name": "stdout",
     "output_type": "stream",
     "text": [
      "\n",
      "tail():\n",
      "     이름    나이 성별    점수\n",
      "0  홍길동  25.0  M  88.0\n",
      "1  이영희  30.0  F  92.0\n",
      "2  김철수   NaN  M  79.0\n",
      "3  박민수  22.0  M   NaN\n"
     ]
    }
   ],
   "source": [
    "# 4. tail: 하위 5개\n",
    "print('\\ntail():\\n', df.tail())"
   ]
  },
  {
   "cell_type": "code",
   "execution_count": 72,
   "metadata": {},
   "outputs": [
    {
     "name": "stdout",
     "output_type": "stream",
     "text": [
      "\n",
      "info():\n",
      "<class 'pandas.core.frame.DataFrame'>\n",
      "RangeIndex: 4 entries, 0 to 3\n",
      "Data columns (total 4 columns):\n",
      " #   Column  Non-Null Count  Dtype  \n",
      "---  ------  --------------  -----  \n",
      " 0   이름      4 non-null      object \n",
      " 1   나이      3 non-null      float64\n",
      " 2   성별      4 non-null      object \n",
      " 3   점수      3 non-null      float64\n",
      "dtypes: float64(2), object(2)\n",
      "memory usage: 260.0+ bytes\n"
     ]
    }
   ],
   "source": [
    "# 5. info: 데이터 정보\n",
    "print('\\ninfo():')\n",
    "df.info()"
   ]
  },
  {
   "cell_type": "code",
   "execution_count": 73,
   "metadata": {},
   "outputs": [
    {
     "name": "stdout",
     "output_type": "stream",
     "text": [
      "\n",
      "describe():\n",
      "               나이         점수\n",
      "count   3.000000   3.000000\n",
      "mean   25.666667  86.333333\n",
      "std     4.041452   6.658328\n",
      "min    22.000000  79.000000\n",
      "25%    23.500000  83.500000\n",
      "50%    25.000000  88.000000\n",
      "75%    27.500000  90.000000\n",
      "max    30.000000  92.000000\n"
     ]
    }
   ],
   "source": [
    "# 6. describe: 통계 요약\n",
    "print('\\ndescribe():\\n', df.describe())"
   ]
  },
  {
   "cell_type": "code",
   "execution_count": 74,
   "metadata": {},
   "outputs": [
    {
     "name": "stdout",
     "output_type": "stream",
     "text": [
      "\n",
      "columns: Index(['이름', '나이', '성별', '점수'], dtype='object')\n"
     ]
    }
   ],
   "source": [
    "# 7. columns: 컬럼명\n",
    "print('\\ncolumns:', df.columns)"
   ]
  },
  {
   "cell_type": "code",
   "execution_count": 75,
   "metadata": {},
   "outputs": [
    {
     "name": "stdout",
     "output_type": "stream",
     "text": [
      "\n",
      "index: RangeIndex(start=0, stop=4, step=1)\n"
     ]
    }
   ],
   "source": [
    "# 8. index: 인덱스\n",
    "print('\\nindex:', df.index)"
   ]
  },
  {
   "cell_type": "code",
   "execution_count": 76,
   "metadata": {},
   "outputs": [
    {
     "name": "stdout",
     "output_type": "stream",
     "text": [
      "\n",
      "shape: (4, 4)\n"
     ]
    }
   ],
   "source": [
    "# 9. shape: 크기\n",
    "print('\\nshape:', df.shape)"
   ]
  },
  {
   "cell_type": "code",
   "execution_count": 77,
   "metadata": {},
   "outputs": [
    {
     "name": "stdout",
     "output_type": "stream",
     "text": [
      "\n",
      "dtypes:\n",
      " 이름     object\n",
      "나이    float64\n",
      "성별     object\n",
      "점수    float64\n",
      "dtype: object\n"
     ]
    }
   ],
   "source": [
    "# 10. dtypes: 데이터 타입\n",
    "print('\\ndtypes:\\n', df.dtypes)"
   ]
  },
  {
   "cell_type": "code",
   "execution_count": 78,
   "metadata": {},
   "outputs": [
    {
     "name": "stdout",
     "output_type": "stream",
     "text": [
      "\n",
      "sort_values(score):\n",
      "     이름    나이 성별    점수\n",
      "2  김철수   NaN  M  79.0\n",
      "0  홍길동  25.0  M  88.0\n",
      "1  이영희  30.0  F  92.0\n",
      "3  박민수  22.0  M   NaN\n"
     ]
    }
   ],
   "source": [
    "# 11. sort_values: 정렬\n",
    "print('\\nsort_values(score):\\n', df.sort_values(by='점수'))"
   ]
  },
  {
   "cell_type": "code",
   "execution_count": 79,
   "metadata": {},
   "outputs": [
    {
     "name": "stdout",
     "output_type": "stream",
     "text": [
      "\n",
      "filter(columns):\n",
      "     이름    점수\n",
      "0  홍길동  88.0\n",
      "1  이영희  92.0\n",
      "2  김철수  79.0\n",
      "3  박민수   NaN\n"
     ]
    }
   ],
   "source": [
    "# 12. filter: 컬럼 선택\n",
    "print('\\nfilter(columns):\\n', df.filter(items=['이름','점수']))"
   ]
  },
  {
   "cell_type": "code",
   "execution_count": 80,
   "metadata": {},
   "outputs": [
    {
     "name": "stdout",
     "output_type": "stream",
     "text": [
      "\n",
      "groupby: <pandas.core.groupby.generic.DataFrameGroupBy object at 0x11f644a40>\n"
     ]
    }
   ],
   "source": [
    "# 13. groupby: 그룹화\n",
    "grp = df.groupby('성별')\n",
    "print('\\ngroupby:', grp)"
   ]
  },
  {
   "cell_type": "code",
   "execution_count": 81,
   "metadata": {},
   "outputs": [
    {
     "name": "stdout",
     "output_type": "stream",
     "text": [
      "\n",
      "agg mean:\n",
      "       나이    점수\n",
      "성별            \n",
      "F   30.0  92.0\n",
      "M   23.5  83.5\n"
     ]
    }
   ],
   "source": [
    "# 14. agg: 집계\n",
    "print('\\nagg mean:\\n', grp.agg({'나이':'mean','점수':'mean'}))"
   ]
  },
  {
   "cell_type": "code",
   "execution_count": 82,
   "metadata": {},
   "outputs": [
    {
     "name": "stdout",
     "output_type": "stream",
     "text": [
      "\n",
      "merge:\n",
      "     이름    나이 성별    점수   도시\n",
      "0  홍길동  25.0  M  88.0   서울\n",
      "1  이영희  30.0  F  92.0   부산\n",
      "2  김철수   NaN  M  79.0  NaN\n",
      "3  박민수  22.0  M   NaN  NaN\n"
     ]
    }
   ],
   "source": [
    "# 15. merge: 병합\n",
    "df2 = pd.DataFrame({'이름':['홍길동','이영희'],'도시':['서울','부산']})\n",
    "print('\\nmerge:\\n', pd.merge(df, df2, on='이름', how='left'))"
   ]
  },
  {
   "cell_type": "code",
   "execution_count": 83,
   "metadata": {},
   "outputs": [
    {
     "name": "stdout",
     "output_type": "stream",
     "text": [
      "\n",
      "concat axis=1:\n",
      "     이름    나이 성별    점수   이름    점수\n",
      "0  홍길동  25.0  M  88.0  홍길동  88.0\n",
      "1  이영희  30.0  F  92.0  이영희  92.0\n",
      "2  김철수   NaN  M  79.0  김철수  79.0\n",
      "3  박민수  22.0  M   NaN  박민수   NaN\n"
     ]
    }
   ],
   "source": [
    "# 16. concat: 이어 붙이기\n",
    "print('\\nconcat axis=1:\\n', pd.concat([df, df.filter(items=['이름','점수'])], axis=1))"
   ]
  },
  {
   "cell_type": "code",
   "execution_count": 84,
   "metadata": {},
   "outputs": [
    {
     "name": "stdout",
     "output_type": "stream",
     "text": [
      "\n",
      "apply square:\n",
      "     이름    나이 성별    점수     점수2\n",
      "0  홍길동  25.0  M  88.0  7744.0\n",
      "1  이영희  30.0  F  92.0  8464.0\n",
      "2  김철수   NaN  M  79.0  6241.0\n",
      "3  박민수  22.0  M   NaN     NaN\n"
     ]
    }
   ],
   "source": [
    "# 17. apply: 함수 적용\n",
    "df['점수2'] = df['점수'].apply(lambda x: x**2 if pd.notnull(x) else x)\n",
    "print('\\napply square:\\n', df)"
   ]
  },
  {
   "cell_type": "code",
   "execution_count": 85,
   "metadata": {},
   "outputs": [
    {
     "name": "stdout",
     "output_type": "stream",
     "text": [
      "\n",
      "isnull:\n",
      "       이름     나이     성별     점수    점수2\n",
      "0  False  False  False  False  False\n",
      "1  False  False  False  False  False\n",
      "2  False   True  False  False  False\n",
      "3  False  False  False   True   True\n"
     ]
    }
   ],
   "source": [
    "# 18. isnull: 결측 확인\n",
    "print('\\nisnull:\\n', df.isnull())"
   ]
  },
  {
   "cell_type": "code",
   "execution_count": 86,
   "metadata": {},
   "outputs": [
    {
     "name": "stdout",
     "output_type": "stream",
     "text": [
      "\n",
      "dropna:\n",
      "     이름    나이 성별    점수     점수2\n",
      "0  홍길동  25.0  M  88.0  7744.0\n",
      "1  이영희  30.0  F  92.0  8464.0\n"
     ]
    }
   ],
   "source": [
    "# 19. dropna: 결측 행 제거\n",
    "print('\\ndropna:\\n', df.dropna(subset=['나이','점수']))"
   ]
  },
  {
   "cell_type": "code",
   "execution_count": 87,
   "metadata": {},
   "outputs": [
    {
     "name": "stdout",
     "output_type": "stream",
     "text": [
      "\n",
      "fillna:\n",
      "     이름         나이 성별         점수     점수2\n",
      "0  홍길동  25.000000  M  88.000000  7744.0\n",
      "1  이영희  30.000000  F  92.000000  8464.0\n",
      "2  김철수  25.666667  M  79.000000  6241.0\n",
      "3  박민수  22.000000  M  86.333333     NaN\n"
     ]
    }
   ],
   "source": [
    "# 20. fillna: 결측 채우기\n",
    "print('\\nfillna:\\n', df.fillna({'나이':df['나이'].mean(),'점수':df['점수'].mean()}))"
   ]
  },
  {
   "cell_type": "code",
   "execution_count": 88,
   "metadata": {},
   "outputs": [
    {
     "name": "stdout",
     "output_type": "stream",
     "text": [
      "\n",
      "astype:\n",
      " 0    25.0\n",
      "1    30.0\n",
      "2     NaN\n",
      "3    22.0\n",
      "Name: 나이, dtype: float64\n"
     ]
    }
   ],
   "source": [
    "# 21. astype: 타입 변경\n",
    "print('\\nastype:\\n', df['나이'].astype('float'))"
   ]
  },
  {
   "cell_type": "code",
   "execution_count": 89,
   "metadata": {},
   "outputs": [
    {
     "name": "stdout",
     "output_type": "stream",
     "text": [
      "\n",
      "rename columns:\n",
      "     이름    나이 성별  score     점수2\n",
      "0  홍길동  25.0  M   88.0  7744.0\n",
      "1  이영희  30.0  F   92.0  8464.0\n",
      "2  김철수   NaN  M   79.0  6241.0\n",
      "3  박민수  22.0  M    NaN     NaN\n"
     ]
    }
   ],
   "source": [
    "# 22. rename: 컬럼명 변경\n",
    "print('\\nrename columns:\\n', df.rename(columns={'점수':'score'}))"
   ]
  },
  {
   "cell_type": "code",
   "execution_count": 90,
   "metadata": {},
   "outputs": [
    {
     "name": "stdout",
     "output_type": "stream",
     "text": [
      "\n",
      "drop column:\n",
      "     이름    나이 성별    점수\n",
      "0  홍길동  25.0  M  88.0\n",
      "1  이영희  30.0  F  92.0\n",
      "2  김철수   NaN  M  79.0\n",
      "3  박민수  22.0  M   NaN\n"
     ]
    }
   ],
   "source": [
    "# 23. drop: 행/열 제거\n",
    "print('\\ndrop column:\\n', df.drop('점수2', axis=1))"
   ]
  },
  {
   "cell_type": "code",
   "execution_count": 91,
   "metadata": {},
   "outputs": [
    {
     "name": "stdout",
     "output_type": "stream",
     "text": [
      "\n",
      "sample 2 rows:\n",
      "     이름    나이 성별    점수     점수2\n",
      "1  이영희  30.0  F  92.0  8464.0\n",
      "0  홍길동  25.0  M  88.0  7744.0\n"
     ]
    }
   ],
   "source": [
    "# 24. sample: 랜덤 샘플\n",
    "print('\\nsample 2 rows:\\n', df.sample(2))"
   ]
  },
  {
   "cell_type": "code",
   "execution_count": 92,
   "metadata": {},
   "outputs": [
    {
     "name": "stdout",
     "output_type": "stream",
     "text": [
      "\n",
      "pivot_table:\n",
      "       점수\n",
      "성별      \n",
      "F   92.0\n",
      "M   83.5\n"
     ]
    }
   ],
   "source": [
    "# 25. pivot_table: 피벗 테이블\n",
    "print('\\npivot_table:\\n', df.pivot_table(index='성별', values='점수', aggfunc='mean'))"
   ]
  },
  {
   "cell_type": "code",
   "execution_count": 93,
   "metadata": {},
   "outputs": [
    {
     "name": "stdout",
     "output_type": "stream",
     "text": [
      "\n",
      "get_dummies:\n",
      "        F      M\n",
      "0  False   True\n",
      "1   True  False\n",
      "2  False   True\n",
      "3  False   True\n"
     ]
    }
   ],
   "source": [
    "# 26. get_dummies: 원-핫 인코딩\n",
    "print('\\nget_dummies:\\n', pd.get_dummies(df['성별']))"
   ]
  },
  {
   "cell_type": "code",
   "execution_count": null,
   "metadata": {},
   "outputs": [],
   "source": [
    "# 27. to_csv: CSV 저장\n",
    "df.to_csv('df_example.csv', index=False)\n",
    "print(\"\\nSaved DataFrame to 'df_example.csv'\")"
   ]
  },
  {
   "cell_type": "code",
   "execution_count": null,
   "metadata": {},
   "outputs": [],
   "source": [
    "# 29. drop_duplicates: 중복 제거\n",
    "print('\\ndrop_duplicates:\\n', df.drop_duplicates())"
   ]
  },
  {
   "cell_type": "code",
   "execution_count": null,
   "metadata": {},
   "outputs": [],
   "source": [
    "# 30. sort_index: 인덱스 기준 정렬\n",
    "print('\\nsort_index:\\n', df.sort_index())"
   ]
  }
 ],
 "metadata": {
  "kernelspec": {
   "display_name": ".venv",
   "language": "python",
   "name": "python3"
  },
  "language_info": {
   "codemirror_mode": {
    "name": "ipython",
    "version": 3
   },
   "file_extension": ".py",
   "mimetype": "text/x-python",
   "name": "python",
   "nbconvert_exporter": "python",
   "pygments_lexer": "ipython3",
   "version": "3.12.10"
  }
 },
 "nbformat": 4,
 "nbformat_minor": 2
}
