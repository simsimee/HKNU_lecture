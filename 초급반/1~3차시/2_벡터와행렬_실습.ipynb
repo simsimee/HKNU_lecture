{
  "cells": [
    {
      "cell_type": "markdown",
      "id": "091c7570",
      "metadata": {
        "id": "091c7570"
      },
      "source": [
        "# 🎓 벡터와 행렬: 딥러닝 실습"
      ]
    },
    {
      "cell_type": "markdown",
      "id": "a59cf4ce",
      "metadata": {
        "id": "a59cf4ce"
      },
      "source": [
        "## 1. 벡터란?\n",
        "- **벡터**는 여러 숫자를 한 줄로 나열한 **리스트**입니다.\n",
        "- 예를 들어 `[3, 4]`는 2차원 벡터(숫자 2개)예요.\n",
        "- 아래 코드 셀을 실행해 벡터를 만들어 봅시다."
      ]
    },
    {
      "cell_type": "code",
      "execution_count": null,
      "id": "94dfd19b",
      "metadata": {
        "id": "94dfd19b"
      },
      "outputs": [],
      "source": [
        "import numpy as np\n",
        "v = np.array([3, 4])\n",
        "print('벡터 v:', v)\n",
        "print('차원(숫자 개수):', v.shape)"
      ]
    },
    {
      "cell_type": "markdown",
      "id": "4f0ca072",
      "metadata": {
        "id": "4f0ca072"
      },
      "source": [
        "## 2. 벡터 연산: 덧셈과 뺄셈\n",
        "같은 위치(차원)의 숫자끼리 더하거나 빼면 됩니다."
      ]
    },
    {
      "cell_type": "code",
      "execution_count": null,
      "id": "8eb14cbc",
      "metadata": {
        "id": "8eb14cbc"
      },
      "outputs": [],
      "source": [
        "v1 = np.array([1, 2])\n",
        "v2 = np.array([3, 4])\n",
        "print('v1 + v2 =', v1 + v2)\n",
        "print('v1 - v2 =', v1 - v2)"
      ]
    },
    {
      "cell_type": "markdown",
      "id": "da289e83",
      "metadata": {
        "id": "da289e83"
      },
      "source": [
        "## 3. 내적(Dot Product)\n",
        "각 위치 숫자를 곱한 뒤 모두 더합니다. 방향이 비슷하면 큰 값이 나와요."
      ]
    },
    {
      "cell_type": "code",
      "execution_count": null,
      "id": "0b64c1db",
      "metadata": {
        "id": "0b64c1db"
      },
      "outputs": [],
      "source": [
        "a = np.array([1, 2, 3])\n",
        "b = np.array([4, 5, 6])\n",
        "print('a · b =', a @ b)"
      ]
    },
    {
      "cell_type": "markdown",
      "id": "a4017d80",
      "metadata": {
        "id": "a4017d80"
      },
      "source": [
        "## 4. 벡터의 길이(노름, Norm)\n",
        "- **L1 노름**: 절댓값을 모두 더함\n",
        "- **L2 노름**: 피타고라스 거리(가장 많이 사용)\n",
        "- **무한 노름**: 가장 큰 숫자 하나만 보기"
      ]
    },
    {
      "cell_type": "code",
      "execution_count": null,
      "id": "3989eba2",
      "metadata": {
        "id": "3989eba2"
      },
      "outputs": [],
      "source": [
        "from numpy.linalg import norm\n",
        "vec = np.array([3, 4])\n",
        "print('L1 노름:', norm(vec, 1))\n",
        "print('L2 노름:', norm(vec))\n",
        "print('무한 노름:', norm(vec, np.inf))"
      ]
    },
    {
      "cell_type": "markdown",
      "id": "10cf5f31",
      "metadata": {
        "id": "10cf5f31"
      },
      "source": [
        "## 5. 행렬(Matrix)란?\n",
        "- 행(row)과 열(column)로 숫자를 정리한 **표**입니다.\n",
        "- 예: 아래 2×3 행렬을 만들어 봅시다."
      ]
    },
    {
      "cell_type": "code",
      "execution_count": null,
      "id": "56ea4d80",
      "metadata": {
        "id": "56ea4d80"
      },
      "outputs": [],
      "source": [
        "M = np.array([[1, 2, 3], [4, 5, 6]])\n",
        "print('행렬 M:\\n', M)\n",
        "print('모양(shape):', M.shape)"
      ]
    },
    {
      "cell_type": "markdown",
      "id": "26de18e3",
      "metadata": {
        "id": "26de18e3"
      },
      "source": [
        "### 5‑1. 이미지도 행렬!\n",
        "아래는 3×3 흑백 이미지(밝기 값) 예시입니다."
      ]
    },
    {
      "cell_type": "code",
      "execution_count": null,
      "id": "74cf01a2",
      "metadata": {
        "id": "74cf01a2"
      },
      "outputs": [],
      "source": [
        "img = np.array([[0, 255, 0],\n",
        "                 [255, 255, 255],\n",
        "                 [0, 255, 0]])\n",
        "print(img)"
      ]
    },
    {
      "cell_type": "markdown",
      "id": "ab0fd46e",
      "metadata": {
        "id": "ab0fd46e"
      },
      "source": [
        "## 6. 딥러닝 적용 예시"
      ]
    },
    {
      "cell_type": "code",
      "source": [
        "#!git clone https://github.com/simsimee/HKNU_lecture.git 하지 않은 경우 #을 지우고 실행!"
      ],
      "metadata": {
        "id": "1bmbeGeIFZag"
      },
      "id": "1bmbeGeIFZag",
      "execution_count": null,
      "outputs": []
    },
    {
      "cell_type": "code",
      "source": [
        "!pip install scikit-learn sentence-transformers torch"
      ],
      "metadata": {
        "id": "AkAppldYKRVm"
      },
      "id": "AkAppldYKRVm",
      "execution_count": null,
      "outputs": []
    },
    {
      "cell_type": "code",
      "source": [
        "from pathlib import Path\n",
        "from PIL import Image\n",
        "import matplotlib.pyplot as plt\n",
        "from glob import glob\n",
        "import os\n",
        "\n",
        "image_paths = sorted(glob('/content/HKNU_lecture/데이터/예시_이미지/*'))\n",
        "\n",
        "print('이미지 개수:', len(image_paths))"
      ],
      "metadata": {
        "id": "iVc8nBhdF7xy"
      },
      "id": "iVc8nBhdF7xy",
      "execution_count": null,
      "outputs": []
    },
    {
      "cell_type": "code",
      "source": [
        "# 썸네일 표시\n",
        "plt.figure(figsize=(3 * len(image_paths), 3))\n",
        "for i, p in enumerate(image_paths, 1):\n",
        "    plt.subplot(1, len(image_paths), i)\n",
        "    img = Image.open(p)\n",
        "    plt.imshow(img)\n",
        "    plt.axis('off')\n",
        "plt.show()"
      ],
      "metadata": {
        "id": "x0t8A3TIBnZl"
      },
      "id": "x0t8A3TIBnZl",
      "execution_count": null,
      "outputs": []
    },
    {
      "cell_type": "code",
      "source": [
        "### 유사한 이미지 찾기"
      ],
      "metadata": {
        "id": "hz-Ed34BBmqF"
      },
      "id": "hz-Ed34BBmqF",
      "execution_count": null,
      "outputs": []
    },
    {
      "cell_type": "code",
      "source": [
        "from sentence_transformers import SentenceTransformer, util\n",
        "import torch\n",
        "\n",
        "model = SentenceTransformer('clip-ViT-B-32')"
      ],
      "metadata": {
        "id": "vujRVkWeBrbu"
      },
      "id": "vujRVkWeBrbu",
      "execution_count": null,
      "outputs": []
    },
    {
      "cell_type": "code",
      "source": [
        "# 이미지 임베딩 (텐서 반환)\n",
        "image_embs = model.encode(\n",
        "    [Image.open(p) for p in image_paths],\n",
        "    convert_to_tensor=True,\n",
        "    show_progress_bar=True\n",
        ")\n",
        "print(\"image_embs.shape:\", image_embs.shape)"
      ],
      "metadata": {
        "id": "tYxy111EGmZ1"
      },
      "id": "tYxy111EGmZ1",
      "execution_count": null,
      "outputs": []
    },
    {
      "cell_type": "code",
      "source": [
        "# 텍스트 기반 이미지 검색\n",
        "query_text = 'cute dog'\n",
        "\n",
        "query_emb = model.encode(query_text, convert_to_tensor=True)\n",
        "cos_scores = util.cos_sim(query_emb, image_embs)[0]\n",
        "\n",
        "top_k = torch.topk(cos_scores, k=min(3, len(image_paths)))\n",
        "\n",
        "print(\"쿼리:\", query_text, \"\\n\")\n",
        "\n",
        "plt.figure(figsize=(4 * top_k.indices.size(0), 4))\n",
        "for idx_rank, idx in enumerate(top_k.indices, 1):\n",
        "    plt.subplot(1, top_k.indices.size(0), idx_rank)\n",
        "    plt.imshow(Image.open(image_paths[idx]))\n",
        "    plt.title(f'score: {cos_scores[idx]:.3f}')\n",
        "    plt.axis('off')\n",
        "plt.show()"
      ],
      "metadata": {
        "id": "wJJtKqtOBz4f"
      },
      "id": "wJJtKqtOBz4f",
      "execution_count": null,
      "outputs": []
    },
    {
      "cell_type": "code",
      "source": [
        "import numpy as np\n",
        "#이미지 기반 유사 이미지 검색\n",
        "query_idx = 0  # 기준이 될 이미지 인덱스\n",
        "query_emb_img = image_embs[query_idx]\n",
        "\n",
        "cos_scores_img = util.cos_sim(query_emb_img, image_embs)[0]\n",
        "# 자기 자신을 제외하고 상위 3개\n",
        "top_indices = cos_scores_img.argsort(descending=True).cpu().numpy()[1:4]\n",
        "\n",
        "plt.figure(figsize=(4 * (len(top_indices) + 1), 4))\n",
        "\n",
        "# 원본\n",
        "plt.subplot(1, len(top_indices) + 1, 1)\n",
        "plt.imshow(Image.open(image_paths[query_idx]))\n",
        "plt.title('Query')\n",
        "plt.axis('off')\n",
        "\n",
        "# 유사 이미지\n",
        "for i, idx in enumerate(top_indices, 2):\n",
        "    plt.subplot(1, len(top_indices) + 1, i)\n",
        "    plt.imshow(Image.open(image_paths[idx]))\n",
        "    plt.title(f'score: {cos_scores_img[idx]:.3f}')\n",
        "    plt.axis('off')\n",
        "\n",
        "plt.show()"
      ],
      "metadata": {
        "id": "AIJd7T6UB3Nn"
      },
      "id": "AIJd7T6UB3Nn",
      "execution_count": null,
      "outputs": []
    },
    {
      "cell_type": "code",
      "source": [
        "## 유사한 문장 찾기"
      ],
      "metadata": {
        "id": "rYspnja2B5RD"
      },
      "id": "rYspnja2B5RD",
      "execution_count": null,
      "outputs": []
    },
    {
      "cell_type": "code",
      "source": [
        "from sentence_transformers import SentenceTransformer\n",
        "from sklearn.decomposition import PCA\n",
        "import numpy as np\n",
        "import matplotlib.pyplot as plt\n",
        "\n",
        "model = SentenceTransformer('sentence-transformers/all-MiniLM-L6-v2')"
      ],
      "metadata": {
        "id": "W4wdkzVTBX4Z"
      },
      "id": "W4wdkzVTBX4Z",
      "execution_count": null,
      "outputs": []
    },
    {
      "cell_type": "code",
      "source": [
        "sent1 = '고양이는 집 안을 돌아다니고 있다.'\n",
        "sent2 = '고양이가 실외를 배회하고 있다.'\n",
        "embeddings = model.encode([sent1, sent2])\n",
        "\n",
        "pca = PCA(n_components=2)\n",
        "pts = pca.fit_transform(embeddings)\n",
        "plt.scatter(pts[:,0], pts[:,1])\n",
        "for i, txt in enumerate(['sent1', 'sent2']):\n",
        "    plt.annotate(txt, (pts[i,0], pts[i,1]))\n",
        "plt.title('Sentence Embeddings (PCA)')\n",
        "plt.xlabel('PC1'); plt.ylabel('PC2'); plt.show()\n"
      ],
      "metadata": {
        "id": "v2chKE1M7iDW"
      },
      "id": "v2chKE1M7iDW",
      "execution_count": null,
      "outputs": []
    },
    {
      "cell_type": "code",
      "source": [
        "from sklearn.metrics.pairwise import cosine_similarity\n",
        "\n",
        "# 코사인 유사도 계산\n",
        "cos_sim = cosine_similarity([embeddings[0]], [embeddings[1]])\n",
        "print(f\"코사인 유사도: {cos_sim[0][0]:.4f}\")"
      ],
      "metadata": {
        "id": "zS7WLYcxHQve"
      },
      "id": "zS7WLYcxHQve",
      "execution_count": null,
      "outputs": []
    },
    {
      "cell_type": "markdown",
      "id": "7ae464c2",
      "metadata": {
        "id": "7ae464c2"
      },
      "source": [
        "## 7. 정리\n",
        "- 벡터와 행렬은 AI 계산의 기본 재료입니다.\n",
        "- 이 노트북에서 본 간단한 연산이 거대한 딥러닝 모델에서도 반복됩니다.\n",
        "\n",
        "🎉 수고했습니다!"
      ]
    }
  ],
  "metadata": {
    "colab": {
      "provenance": [],
      "gpuType": "T4"
    },
    "language_info": {
      "name": "python"
    },
    "kernelspec": {
      "name": "python3",
      "display_name": "Python 3"
    },
    "accelerator": "GPU"
  },
  "nbformat": 4,
  "nbformat_minor": 5
}