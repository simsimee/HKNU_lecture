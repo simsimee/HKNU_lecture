{
 "cells": [
  {
   "cell_type": "code",
   "execution_count": null,
   "metadata": {},
   "outputs": [],
   "source": [
    "!pip install -qU langchain-openai\n",
    "!pip install langchain-community\n",
    "!pip install gradio"
   ]
  },
  {
   "cell_type": "code",
   "execution_count": null,
   "metadata": {},
   "outputs": [],
   "source": [
    "import getpass\n",
    "import os\n",
    "\n",
    "os.environ['OPENAI_API_KEY'] = getpass.getpass('OpenAI API key를 입력하세요.')"
   ]
  },
  {
   "cell_type": "code",
   "execution_count": null,
   "metadata": {},
   "outputs": [],
   "source": [
    "from langchain.chat_models import ChatOpenAI\n",
    "from langchain.schema import AIMessage, HumanMessage, SystemMessage\n",
    "import gradio as gr\n",
    "\n",
    "llm = ChatOpenAI(temperature=1.0, model='gpt-4o-mini')\n",
    "\n",
    "def response(message, history, additional_input_info):\n",
    "        history_langchain_format = []\n",
    "        # additional_input_info로 받은 시스템 프롬프트를 랭체인에게 전달할 메시지에 포함시킨다.\n",
    "        history_langchain_format.append(SystemMessage(content= additional_input_info))\n",
    "        for human, ai in history:\n",
    "                history_langchain_format.append(HumanMessage(content=human))\n",
    "                history_langchain_format.append(AIMessage(content=ai))\n",
    "        history_langchain_format.append(HumanMessage(content=message))\n",
    "        gpt_response = llm(history_langchain_format)\n",
    "        return gpt_response.content\n",
    "\n",
    "system_prompt = \"\"\"\n",
    "당신은 8세 아동이고, 아이처럼 말하는 것에 능숙하다.\n",
    "사용자의 질문에 대해 아이처럼 대화를 하여라.\n",
    "\"\"\"\n",
    "\n",
    "iface = gr.ChatInterface(\n",
    "        fn=response,\n",
    "        textbox=gr.Textbox(placeholder=\"나만의 챗봇과 대화해봐요!!\", container=False, scale=5),\n",
    "        chatbot=gr.Chatbot(height=300), # 채팅창 높이 조절\n",
    "        title=\"나만의 챗봇\",\n",
    "        description=\"나만의 챗봇으로 Customizing하여 대화하기!\",\n",
    "        theme=\"soft\",\n",
    "        examples=[[\"안뇽\"], [\"요즘 덥다 ㅠㅠ\"], [\"점심메뉴 추천바람, 짜장 짬뽕 택 1\"]],\n",
    "        retry_btn=\"다시 작성하기 ↩\",\n",
    "        undo_btn=\"이전 대화 삭제 ❌\",\n",
    "        clear_btn=\"전체 대화 삭제 💫\",\n",
    "        additional_inputs=[\n",
    "            gr.Textbox(system_prompt, label=\"System Prompt를 입력해주세요\", placeholder=\"8세 아동이고 아이처럼 말하는 것에 능숙하다.\")\n",
    "        ]\n",
    ")\n",
    "iface.launch()"
   ]
  }
 ],
 "metadata": {
  "language_info": {
   "name": "python"
  }
 },
 "nbformat": 4,
 "nbformat_minor": 2
}
